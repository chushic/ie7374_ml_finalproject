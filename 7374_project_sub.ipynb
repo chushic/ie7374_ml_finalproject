{
 "cells": [
  {
   "cell_type": "code",
   "execution_count": 3,
   "id": "86a38295",
   "metadata": {
    "id": "86a38295"
   },
   "outputs": [],
   "source": [
    "import pandas as pd\n",
    "import numpy as np\n",
    "import seaborn as sns\n",
    "import matplotlib.pyplot as plt\n",
    "from sklearn.model_selection import train_test_split\n",
    "from tqdm import tqdm\n",
    "from sklearn import metrics\n",
    "import math\n",
    "from imblearn.over_sampling import SMOTE"
   ]
  },
  {
   "cell_type": "markdown",
   "id": "BEFh1dHfWQXX",
   "metadata": {
    "id": "BEFh1dHfWQXX"
   },
   "source": [
    "# Data Collection\n"
   ]
  },
  {
   "cell_type": "code",
   "execution_count": 4,
   "id": "VtBdKJxDVQ5J",
   "metadata": {
    "colab": {
     "base_uri": "https://localhost:8080/",
     "height": 327,
     "resources": {
      "http://localhost:8080/nbextensions/google.colab/files.js": {
       "data": "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",
       "headers": [
        [
         "content-type",
         "application/javascript"
        ]
       ],
       "ok": true,
       "status": 200,
       "status_text": ""
      }
     }
    },
    "id": "VtBdKJxDVQ5J",
    "outputId": "d140b2f6-5079-4aa4-a63d-288acbfc3048"
   },
   "outputs": [],
   "source": [
    "# For Colab\n",
    "# from google.colab import files\n",
    "# file = files.upload()\n",
    "# df = pd.read_csv(\"online_shoppers_intention.csv\") \n",
    "# df.head()"
   ]
  },
  {
   "cell_type": "code",
   "execution_count": 5,
   "id": "6b34c81c",
   "metadata": {
    "id": "6b34c81c"
   },
   "outputs": [],
   "source": [
    "df = pd.read_csv('online_shoppers_intention.csv')"
   ]
  },
  {
   "cell_type": "code",
   "execution_count": 6,
   "id": "C6tSbk0bWYBm",
   "metadata": {
    "colab": {
     "base_uri": "https://localhost:8080/"
    },
    "id": "C6tSbk0bWYBm",
    "outputId": "4a9ab6a8-560a-4473-ffc6-429cf8a83f06"
   },
   "outputs": [
    {
     "name": "stdout",
     "output_type": "stream",
     "text": [
      "<class 'pandas.core.frame.DataFrame'>\n",
      "RangeIndex: 12330 entries, 0 to 12329\n",
      "Data columns (total 18 columns):\n",
      " #   Column                   Non-Null Count  Dtype  \n",
      "---  ------                   --------------  -----  \n",
      " 0   Administrative           12330 non-null  int64  \n",
      " 1   Administrative_Duration  12330 non-null  float64\n",
      " 2   Informational            12330 non-null  int64  \n",
      " 3   Informational_Duration   12330 non-null  float64\n",
      " 4   ProductRelated           12330 non-null  int64  \n",
      " 5   ProductRelated_Duration  12330 non-null  float64\n",
      " 6   BounceRates              12330 non-null  float64\n",
      " 7   ExitRates                12330 non-null  float64\n",
      " 8   PageValues               12330 non-null  float64\n",
      " 9   SpecialDay               12330 non-null  float64\n",
      " 10  Month                    12330 non-null  object \n",
      " 11  OperatingSystems         12330 non-null  int64  \n",
      " 12  Browser                  12330 non-null  int64  \n",
      " 13  Region                   12330 non-null  int64  \n",
      " 14  TrafficType              12330 non-null  int64  \n",
      " 15  VisitorType              12330 non-null  object \n",
      " 16  Weekend                  12330 non-null  bool   \n",
      " 17  Revenue                  12330 non-null  bool   \n",
      "dtypes: bool(2), float64(7), int64(7), object(2)\n",
      "memory usage: 1.5+ MB\n"
     ]
    }
   ],
   "source": [
    "df.info()"
   ]
  },
  {
   "cell_type": "markdown",
   "id": "DWJ3MzL6WcDm",
   "metadata": {
    "id": "DWJ3MzL6WcDm"
   },
   "source": [
    "No missing values found. A mix of categorical and numerical variables."
   ]
  },
  {
   "cell_type": "markdown",
   "id": "l8xsLFVZWVu1",
   "metadata": {
    "id": "l8xsLFVZWVu1"
   },
   "source": [
    "# Data Exploration"
   ]
  },
  {
   "cell_type": "code",
   "execution_count": 172,
   "id": "PL9gotTMWjht",
   "metadata": {
    "colab": {
     "base_uri": "https://localhost:8080/"
    },
    "id": "PL9gotTMWjht",
    "outputId": "ff4ced0c-c279-4a16-eaf7-add52cf2cbba"
   },
   "outputs": [
    {
     "data": {
      "text/plain": [
       "False    10422\n",
       "True      1908\n",
       "Name: Revenue, dtype: int64"
      ]
     },
     "execution_count": 172,
     "metadata": {},
     "output_type": "execute_result"
    }
   ],
   "source": [
    "# Taking a look at the target variable\n",
    "df['Revenue'].value_counts()"
   ]
  },
  {
   "cell_type": "code",
   "execution_count": 173,
   "id": "Gp3AKADdX30V",
   "metadata": {
    "colab": {
     "base_uri": "https://localhost:8080/",
     "height": 364
    },
    "id": "Gp3AKADdX30V",
    "outputId": "37604436-4af7-4fdd-b825-8d239469ce36"
   },
   "outputs": [
    {
     "data": {
      "text/html": [
       "<div>\n",
       "<style scoped>\n",
       "    .dataframe tbody tr th:only-of-type {\n",
       "        vertical-align: middle;\n",
       "    }\n",
       "\n",
       "    .dataframe tbody tr th {\n",
       "        vertical-align: top;\n",
       "    }\n",
       "\n",
       "    .dataframe thead th {\n",
       "        text-align: right;\n",
       "    }\n",
       "</style>\n",
       "<table border=\"1\" class=\"dataframe\">\n",
       "  <thead>\n",
       "    <tr style=\"text-align: right;\">\n",
       "      <th></th>\n",
       "      <th>Administrative</th>\n",
       "      <th>Administrative_Duration</th>\n",
       "      <th>Informational</th>\n",
       "      <th>Informational_Duration</th>\n",
       "      <th>ProductRelated</th>\n",
       "      <th>ProductRelated_Duration</th>\n",
       "      <th>BounceRates</th>\n",
       "      <th>ExitRates</th>\n",
       "      <th>PageValues</th>\n",
       "      <th>SpecialDay</th>\n",
       "      <th>OperatingSystems</th>\n",
       "      <th>Browser</th>\n",
       "      <th>Region</th>\n",
       "      <th>TrafficType</th>\n",
       "    </tr>\n",
       "  </thead>\n",
       "  <tbody>\n",
       "    <tr>\n",
       "      <th>count</th>\n",
       "      <td>12330.000000</td>\n",
       "      <td>12330.000000</td>\n",
       "      <td>12330.000000</td>\n",
       "      <td>12330.000000</td>\n",
       "      <td>12330.000000</td>\n",
       "      <td>12330.000000</td>\n",
       "      <td>12330.000000</td>\n",
       "      <td>12330.000000</td>\n",
       "      <td>12330.000000</td>\n",
       "      <td>12330.000000</td>\n",
       "      <td>12330.000000</td>\n",
       "      <td>12330.000000</td>\n",
       "      <td>12330.000000</td>\n",
       "      <td>12330.000000</td>\n",
       "    </tr>\n",
       "    <tr>\n",
       "      <th>mean</th>\n",
       "      <td>2.315166</td>\n",
       "      <td>80.818611</td>\n",
       "      <td>0.503569</td>\n",
       "      <td>34.472398</td>\n",
       "      <td>31.731468</td>\n",
       "      <td>1194.746220</td>\n",
       "      <td>0.022191</td>\n",
       "      <td>0.043073</td>\n",
       "      <td>5.889258</td>\n",
       "      <td>0.061427</td>\n",
       "      <td>2.124006</td>\n",
       "      <td>2.357097</td>\n",
       "      <td>3.147364</td>\n",
       "      <td>4.069586</td>\n",
       "    </tr>\n",
       "    <tr>\n",
       "      <th>std</th>\n",
       "      <td>3.321784</td>\n",
       "      <td>176.779107</td>\n",
       "      <td>1.270156</td>\n",
       "      <td>140.749294</td>\n",
       "      <td>44.475503</td>\n",
       "      <td>1913.669288</td>\n",
       "      <td>0.048488</td>\n",
       "      <td>0.048597</td>\n",
       "      <td>18.568437</td>\n",
       "      <td>0.198917</td>\n",
       "      <td>0.911325</td>\n",
       "      <td>1.717277</td>\n",
       "      <td>2.401591</td>\n",
       "      <td>4.025169</td>\n",
       "    </tr>\n",
       "    <tr>\n",
       "      <th>min</th>\n",
       "      <td>0.000000</td>\n",
       "      <td>0.000000</td>\n",
       "      <td>0.000000</td>\n",
       "      <td>0.000000</td>\n",
       "      <td>0.000000</td>\n",
       "      <td>0.000000</td>\n",
       "      <td>0.000000</td>\n",
       "      <td>0.000000</td>\n",
       "      <td>0.000000</td>\n",
       "      <td>0.000000</td>\n",
       "      <td>1.000000</td>\n",
       "      <td>1.000000</td>\n",
       "      <td>1.000000</td>\n",
       "      <td>1.000000</td>\n",
       "    </tr>\n",
       "    <tr>\n",
       "      <th>25%</th>\n",
       "      <td>0.000000</td>\n",
       "      <td>0.000000</td>\n",
       "      <td>0.000000</td>\n",
       "      <td>0.000000</td>\n",
       "      <td>7.000000</td>\n",
       "      <td>184.137500</td>\n",
       "      <td>0.000000</td>\n",
       "      <td>0.014286</td>\n",
       "      <td>0.000000</td>\n",
       "      <td>0.000000</td>\n",
       "      <td>2.000000</td>\n",
       "      <td>2.000000</td>\n",
       "      <td>1.000000</td>\n",
       "      <td>2.000000</td>\n",
       "    </tr>\n",
       "    <tr>\n",
       "      <th>50%</th>\n",
       "      <td>1.000000</td>\n",
       "      <td>7.500000</td>\n",
       "      <td>0.000000</td>\n",
       "      <td>0.000000</td>\n",
       "      <td>18.000000</td>\n",
       "      <td>598.936905</td>\n",
       "      <td>0.003112</td>\n",
       "      <td>0.025156</td>\n",
       "      <td>0.000000</td>\n",
       "      <td>0.000000</td>\n",
       "      <td>2.000000</td>\n",
       "      <td>2.000000</td>\n",
       "      <td>3.000000</td>\n",
       "      <td>2.000000</td>\n",
       "    </tr>\n",
       "    <tr>\n",
       "      <th>75%</th>\n",
       "      <td>4.000000</td>\n",
       "      <td>93.256250</td>\n",
       "      <td>0.000000</td>\n",
       "      <td>0.000000</td>\n",
       "      <td>38.000000</td>\n",
       "      <td>1464.157214</td>\n",
       "      <td>0.016813</td>\n",
       "      <td>0.050000</td>\n",
       "      <td>0.000000</td>\n",
       "      <td>0.000000</td>\n",
       "      <td>3.000000</td>\n",
       "      <td>2.000000</td>\n",
       "      <td>4.000000</td>\n",
       "      <td>4.000000</td>\n",
       "    </tr>\n",
       "    <tr>\n",
       "      <th>max</th>\n",
       "      <td>27.000000</td>\n",
       "      <td>3398.750000</td>\n",
       "      <td>24.000000</td>\n",
       "      <td>2549.375000</td>\n",
       "      <td>705.000000</td>\n",
       "      <td>63973.522230</td>\n",
       "      <td>0.200000</td>\n",
       "      <td>0.200000</td>\n",
       "      <td>361.763742</td>\n",
       "      <td>1.000000</td>\n",
       "      <td>8.000000</td>\n",
       "      <td>13.000000</td>\n",
       "      <td>9.000000</td>\n",
       "      <td>20.000000</td>\n",
       "    </tr>\n",
       "  </tbody>\n",
       "</table>\n",
       "</div>"
      ],
      "text/plain": [
       "       Administrative  Administrative_Duration  Informational  \\\n",
       "count    12330.000000             12330.000000   12330.000000   \n",
       "mean         2.315166                80.818611       0.503569   \n",
       "std          3.321784               176.779107       1.270156   \n",
       "min          0.000000                 0.000000       0.000000   \n",
       "25%          0.000000                 0.000000       0.000000   \n",
       "50%          1.000000                 7.500000       0.000000   \n",
       "75%          4.000000                93.256250       0.000000   \n",
       "max         27.000000              3398.750000      24.000000   \n",
       "\n",
       "       Informational_Duration  ProductRelated  ProductRelated_Duration  \\\n",
       "count            12330.000000    12330.000000             12330.000000   \n",
       "mean                34.472398       31.731468              1194.746220   \n",
       "std                140.749294       44.475503              1913.669288   \n",
       "min                  0.000000        0.000000                 0.000000   \n",
       "25%                  0.000000        7.000000               184.137500   \n",
       "50%                  0.000000       18.000000               598.936905   \n",
       "75%                  0.000000       38.000000              1464.157214   \n",
       "max               2549.375000      705.000000             63973.522230   \n",
       "\n",
       "        BounceRates     ExitRates    PageValues    SpecialDay  \\\n",
       "count  12330.000000  12330.000000  12330.000000  12330.000000   \n",
       "mean       0.022191      0.043073      5.889258      0.061427   \n",
       "std        0.048488      0.048597     18.568437      0.198917   \n",
       "min        0.000000      0.000000      0.000000      0.000000   \n",
       "25%        0.000000      0.014286      0.000000      0.000000   \n",
       "50%        0.003112      0.025156      0.000000      0.000000   \n",
       "75%        0.016813      0.050000      0.000000      0.000000   \n",
       "max        0.200000      0.200000    361.763742      1.000000   \n",
       "\n",
       "       OperatingSystems       Browser        Region   TrafficType  \n",
       "count      12330.000000  12330.000000  12330.000000  12330.000000  \n",
       "mean           2.124006      2.357097      3.147364      4.069586  \n",
       "std            0.911325      1.717277      2.401591      4.025169  \n",
       "min            1.000000      1.000000      1.000000      1.000000  \n",
       "25%            2.000000      2.000000      1.000000      2.000000  \n",
       "50%            2.000000      2.000000      3.000000      2.000000  \n",
       "75%            3.000000      2.000000      4.000000      4.000000  \n",
       "max            8.000000     13.000000      9.000000     20.000000  "
      ]
     },
     "execution_count": 173,
     "metadata": {},
     "output_type": "execute_result"
    }
   ],
   "source": [
    "# summary statistics of all numerical variables\n",
    "df.describe()"
   ]
  },
  {
   "cell_type": "code",
   "execution_count": 174,
   "id": "afdc5fcd",
   "metadata": {},
   "outputs": [
    {
     "data": {
      "text/plain": [
       "Administrative               27\n",
       "Administrative_Duration    3335\n",
       "Informational                17\n",
       "Informational_Duration     1258\n",
       "ProductRelated              311\n",
       "ProductRelated_Duration    9551\n",
       "BounceRates                1872\n",
       "ExitRates                  4777\n",
       "PageValues                 2704\n",
       "SpecialDay                    6\n",
       "Month                        10\n",
       "OperatingSystems              8\n",
       "Browser                      13\n",
       "Region                        9\n",
       "TrafficType                  20\n",
       "VisitorType                   3\n",
       "Weekend                       2\n",
       "Revenue                       2\n",
       "dtype: int64"
      ]
     },
     "execution_count": 174,
     "metadata": {},
     "output_type": "execute_result"
    }
   ],
   "source": [
    "df.nunique()"
   ]
  },
  {
   "cell_type": "code",
   "execution_count": 175,
   "id": "fa550c0b",
   "metadata": {
    "colab": {
     "base_uri": "https://localhost:8080/",
     "height": 710
    },
    "id": "fa550c0b",
    "outputId": "25096e43-066a-485d-89eb-7bb052ce280c"
   },
   "outputs": [
    {
     "data": {
      "image/png": "[encoded data removed]",
      "text/plain": [
       "<Figure size 1152x720 with 2 Axes>"
      ]
     },
     "metadata": {},
     "output_type": "display_data"
    }
   ],
   "source": [
    "# Correlation between variables\n",
    "corr = df.corr().abs()\n",
    "mask = np.zeros_like(corr)\n",
    "mask[np.triu_indices_from(mask)] = True\n",
    "with sns.axes_style(\"white\"):\n",
    "    f, ax = plt.subplots(figsize=(16, 10))\n",
    "    ax = sns.heatmap(corr, mask=mask, vmax=.3, square=True, annot = True) # , annot=True"
   ]
  },
  {
   "cell_type": "markdown",
   "id": "mzmKmsIlRLDB",
   "metadata": {
    "id": "mzmKmsIlRLDB"
   },
   "source": [
    "From the correlation map above, we can see that most of the variabels are not correlated. However, ExitRates and BounceRates are highly correlated (0.91 for coefficient)"
   ]
  },
  {
   "cell_type": "code",
   "execution_count": 176,
   "id": "990DfUgUVZi0",
   "metadata": {
    "id": "990DfUgUVZi0"
   },
   "outputs": [],
   "source": [
    "df_X = df.drop(\"Revenue\", axis = 1)"
   ]
  },
  {
   "cell_type": "code",
   "execution_count": 177,
   "id": "o8HLkQ0uR0D-",
   "metadata": {
    "id": "o8HLkQ0uR0D-"
   },
   "outputs": [],
   "source": [
    "# Based on the dataset information, we have 7 categorical variables + 1 outcome and 10 numerical variables\n",
    "cat_col = ['OperatingSystems', 'Browser', 'Region', 'TrafficType', 'VisitorType','Month','Weekend']"
   ]
  },
  {
   "cell_type": "code",
   "execution_count": 178,
   "id": "Rl64JmpZWLmo",
   "metadata": {
    "colab": {
     "base_uri": "https://localhost:8080/"
    },
    "id": "Rl64JmpZWLmo",
    "outputId": "37abaf0b-ecf0-4a08-cbfa-135f6af790e3"
   },
   "outputs": [
    {
     "name": "stdout",
     "output_type": "stream",
     "text": [
      "<class 'pandas.core.frame.DataFrame'>\n",
      "RangeIndex: 12330 entries, 0 to 12329\n",
      "Data columns (total 7 columns):\n",
      " #   Column            Non-Null Count  Dtype \n",
      "---  ------            --------------  ----- \n",
      " 0   OperatingSystems  12330 non-null  int64 \n",
      " 1   Browser           12330 non-null  int64 \n",
      " 2   Region            12330 non-null  int64 \n",
      " 3   TrafficType       12330 non-null  int64 \n",
      " 4   VisitorType       12330 non-null  object\n",
      " 5   Month             12330 non-null  object\n",
      " 6   Weekend           12330 non-null  bool  \n",
      "dtypes: bool(1), int64(4), object(2)\n",
      "memory usage: 590.1+ KB\n"
     ]
    }
   ],
   "source": [
    "df[cat_col].info()"
   ]
  },
  {
   "cell_type": "code",
   "execution_count": 179,
   "id": "g-__-3ksTP_K",
   "metadata": {
    "id": "g-__-3ksTP_K"
   },
   "outputs": [],
   "source": [
    "df_num = df_X.drop(labels = cat_col, axis =1)"
   ]
  },
  {
   "cell_type": "code",
   "execution_count": 180,
   "id": "cbe75786",
   "metadata": {
    "colab": {
     "base_uri": "https://localhost:8080/",
     "height": 1000
    },
    "id": "cbe75786",
    "outputId": "999e532c-eaca-4bf0-fd5f-5e72d10c9d11"
   },
   "outputs": [
    {
     "data": {
      "image/png": "[encoded data removed]",
      "text/plain": [
       "<Figure size 1152x1440 with 12 Axes>"
      ]
     },
     "metadata": {
      "needs_background": "light"
     },
     "output_type": "display_data"
    }
   ],
   "source": [
    "# Histogram for numerical variables \n",
    "df_num.hist(figsize=(16, 20), bins=50, xlabelsize=8, ylabelsize=8,color=\"#FF6666\");"
   ]
  },
  {
   "cell_type": "markdown",
   "id": "5wbuILC7Y0aI",
   "metadata": {
    "id": "5wbuILC7Y0aI"
   },
   "source": [
    "We could see that from the histogram, most of our numerical variabels are highly skewed. Now, let's plot stacked bar chart to explore how each category is represented in different class."
   ]
  },
  {
   "cell_type": "code",
   "execution_count": 181,
   "id": "0yyZwB9qdQun",
   "metadata": {
    "colab": {
     "base_uri": "https://localhost:8080/",
     "height": 626
    },
    "id": "0yyZwB9qdQun",
    "outputId": "f387680b-ee48-48ed-b923-30bd00527bdc"
   },
   "outputs": [
    {
     "data": {
      "text/plain": [
       "<AxesSubplot:xlabel='Browser'>"
      ]
     },
     "execution_count": 181,
     "metadata": {},
     "output_type": "execute_result"
    },
    {
     "data": {
      "image/png": "[encoded data removed]",
      "text/plain": [
       "<Figure size 1080x720 with 2 Axes>"
      ]
     },
     "metadata": {
      "needs_background": "light"
     },
     "output_type": "display_data"
    }
   ],
   "source": [
    "fig, ax = plt.subplots(1,2,figsize=(15,10))\n",
    "ax1= plt.subplot(121)\n",
    "pd.crosstab(df['OperatingSystems'],df['Revenue']).plot(kind = 'bar', stacked = True, color = ['Gray', 'pink'],ax=ax1)\n",
    "ax2= plt.subplot(122)\n",
    "pd.crosstab(df['Browser'],df['Revenue']).plot(kind = 'bar', stacked = True,  color = ['Gray', 'pink'],ax=ax2)"
   ]
  },
  {
   "cell_type": "code",
   "execution_count": 182,
   "id": "yE_28E8VdQxH",
   "metadata": {
    "colab": {
     "base_uri": "https://localhost:8080/",
     "height": 628
    },
    "id": "yE_28E8VdQxH",
    "outputId": "569a7e67-d146-4187-97b9-a6484c3a9198"
   },
   "outputs": [
    {
     "data": {
      "text/plain": [
       "<AxesSubplot:xlabel='TrafficType'>"
      ]
     },
     "execution_count": 182,
     "metadata": {},
     "output_type": "execute_result"
    },
    {
     "data": {
      "image/png": "[encoded data removed]",
      "text/plain": [
       "<Figure size 1080x720 with 2 Axes>"
      ]
     },
     "metadata": {
      "needs_background": "light"
     },
     "output_type": "display_data"
    }
   ],
   "source": [
    "fig, ax = plt.subplots(1,2,figsize=(15,10))\n",
    "ax1= plt.subplot(121)\n",
    "pd.crosstab(df['Region'],df['Revenue']).plot(kind = 'bar', stacked = True, color = ['Gray', 'pink'],ax=ax1)\n",
    "ax2= plt.subplot(122)\n",
    "pd.crosstab(df['TrafficType'],df['Revenue']).plot(kind = 'bar', stacked = True,  color = ['Gray', 'pink'],ax=ax2)"
   ]
  },
  {
   "cell_type": "code",
   "execution_count": 183,
   "id": "D4AZUtTkdQzV",
   "metadata": {
    "colab": {
     "base_uri": "https://localhost:8080/",
     "height": 699
    },
    "id": "D4AZUtTkdQzV",
    "outputId": "4d5a61db-bb81-4e62-b0ac-06ae334aaae4"
   },
   "outputs": [
    {
     "data": {
      "text/plain": [
       "<AxesSubplot:xlabel='Weekend'>"
      ]
     },
     "execution_count": 183,
     "metadata": {},
     "output_type": "execute_result"
    },
    {
     "data": {
      "image/png": "[encoded data removed]",
      "text/plain": [
       "<Figure size 1440x720 with 3 Axes>"
      ]
     },
     "metadata": {
      "needs_background": "light"
     },
     "output_type": "display_data"
    }
   ],
   "source": [
    "fig, ax = plt.subplots(1,3,figsize=(20,10))\n",
    "ax1= plt.subplot(131)\n",
    "pd.crosstab(df['VisitorType'],df['Revenue']).plot(kind = 'bar', stacked = True, color = ['Gray', 'pink'],ax=ax1)\n",
    "ax2= plt.subplot(132)\n",
    "pd.crosstab(df['Month'],df['Revenue']).plot(kind = 'bar', stacked = True,  color = ['Gray', 'pink'],ax=ax2)\n",
    "ax3= plt.subplot(133)\n",
    "pd.crosstab(df['Weekend'],df['Revenue']).plot(kind = 'bar', stacked = True,  color = ['Gray', 'pink'],ax=ax3)"
   ]
  },
  {
   "cell_type": "markdown",
   "id": "slTm06cwoffu",
   "metadata": {
    "id": "slTm06cwoffu"
   },
   "source": [
    "From the Stacked bar chart, we can see that there are some variables that have categories with very limited presense. Those variables are: traffic type, operating system and browser. We'll need to consider binning thoses categories to reduce dimension when we later convert all categorical data to dummy variables."
   ]
  },
  {
   "cell_type": "code",
   "execution_count": 184,
   "id": "XylHaSawmJJV",
   "metadata": {
    "colab": {
     "base_uri": "https://localhost:8080/",
     "height": 882
    },
    "id": "XylHaSawmJJV",
    "outputId": "996f94e4-75f4-4ded-bb8d-7c3d344b3010"
   },
   "outputs": [
    {
     "data": {
      "text/plain": [
       "<AxesSubplot:>"
      ]
     },
     "execution_count": 184,
     "metadata": {},
     "output_type": "execute_result"
    },
    {
     "data": {
      "image/png": "[encoded data removed]",
      "text/plain": [
       "<Figure size 720x1080 with 4 Axes>"
      ]
     },
     "metadata": {
      "needs_background": "light"
     },
     "output_type": "display_data"
    }
   ],
   "source": [
    "# Look at the boxplot for the numerical variables with very large std\n",
    "\n",
    "fig, ax = plt.subplots(2,2,figsize=(10,15))\n",
    "ax1= plt.subplot(221)\n",
    "df.boxplot(column = ['Administrative_Duration'],ax=ax1)\n",
    "ax2= plt.subplot(222)\n",
    "df.boxplot(column = ['Informational_Duration'],ax=ax2)\n",
    "ax3= plt.subplot(223)\n",
    "df.boxplot(column = ['ProductRelated'],ax=ax3)\n",
    "ax4= plt.subplot(224)\n",
    "df.boxplot(column = ['ProductRelated_Duration'],ax=ax4)"
   ]
  },
  {
   "cell_type": "markdown",
   "id": "xfB4g2Thn5gE",
   "metadata": {
    "id": "xfB4g2Thn5gE"
   },
   "source": [
    "# Data Preprocessing & Feature Engineering"
   ]
  },
  {
   "cell_type": "code",
   "execution_count": 185,
   "id": "82c892f1",
   "metadata": {},
   "outputs": [],
   "source": [
    "# Convert TrafficType to categorical variable\n",
    "df.TrafficType = df.TrafficType.astype('category')"
   ]
  },
  {
   "cell_type": "code",
   "execution_count": 186,
   "id": "5aa7adc3",
   "metadata": {},
   "outputs": [],
   "source": [
    "# Create dummy variables for categorical variables\n",
    "df = pd.get_dummies(df,columns=['OperatingSystems', 'Browser', 'Region', 'TrafficType', 'VisitorType','Month'])"
   ]
  },
  {
   "cell_type": "code",
   "execution_count": 187,
   "id": "gL0WmcI0mJGt",
   "metadata": {
    "id": "gL0WmcI0mJGt"
   },
   "outputs": [],
   "source": [
    "# Convert boolean categorical variables to numeric variables\n",
    "df.loc[:, ['Weekend', 'Revenue']] = df.loc[:, ['Weekend', 'Revenue']].astype('int')"
   ]
  },
  {
   "cell_type": "code",
   "execution_count": 188,
   "id": "5ea1f91d",
   "metadata": {},
   "outputs": [
    {
     "name": "stdout",
     "output_type": "stream",
     "text": [
      "<class 'pandas.core.frame.DataFrame'>\n",
      "RangeIndex: 12330 entries, 0 to 12329\n",
      "Data columns (total 75 columns):\n",
      " #   Column                         Non-Null Count  Dtype  \n",
      "---  ------                         --------------  -----  \n",
      " 0   Administrative                 12330 non-null  int64  \n",
      " 1   Administrative_Duration        12330 non-null  float64\n",
      " 2   Informational                  12330 non-null  int64  \n",
      " 3   Informational_Duration         12330 non-null  float64\n",
      " 4   ProductRelated                 12330 non-null  int64  \n",
      " 5   ProductRelated_Duration        12330 non-null  float64\n",
      " 6   BounceRates                    12330 non-null  float64\n",
      " 7   ExitRates                      12330 non-null  float64\n",
      " 8   PageValues                     12330 non-null  float64\n",
      " 9   SpecialDay                     12330 non-null  float64\n",
      " 10  Weekend                        12330 non-null  int64  \n",
      " 11  Revenue                        12330 non-null  int64  \n",
      " 12  OperatingSystems_1             12330 non-null  uint8  \n",
      " 13  OperatingSystems_2             12330 non-null  uint8  \n",
      " 14  OperatingSystems_3             12330 non-null  uint8  \n",
      " 15  OperatingSystems_4             12330 non-null  uint8  \n",
      " 16  OperatingSystems_5             12330 non-null  uint8  \n",
      " 17  OperatingSystems_6             12330 non-null  uint8  \n",
      " 18  OperatingSystems_7             12330 non-null  uint8  \n",
      " 19  OperatingSystems_8             12330 non-null  uint8  \n",
      " 20  Browser_1                      12330 non-null  uint8  \n",
      " 21  Browser_2                      12330 non-null  uint8  \n",
      " 22  Browser_3                      12330 non-null  uint8  \n",
      " 23  Browser_4                      12330 non-null  uint8  \n",
      " 24  Browser_5                      12330 non-null  uint8  \n",
      " 25  Browser_6                      12330 non-null  uint8  \n",
      " 26  Browser_7                      12330 non-null  uint8  \n",
      " 27  Browser_8                      12330 non-null  uint8  \n",
      " 28  Browser_9                      12330 non-null  uint8  \n",
      " 29  Browser_10                     12330 non-null  uint8  \n",
      " 30  Browser_11                     12330 non-null  uint8  \n",
      " 31  Browser_12                     12330 non-null  uint8  \n",
      " 32  Browser_13                     12330 non-null  uint8  \n",
      " 33  Region_1                       12330 non-null  uint8  \n",
      " 34  Region_2                       12330 non-null  uint8  \n",
      " 35  Region_3                       12330 non-null  uint8  \n",
      " 36  Region_4                       12330 non-null  uint8  \n",
      " 37  Region_5                       12330 non-null  uint8  \n",
      " 38  Region_6                       12330 non-null  uint8  \n",
      " 39  Region_7                       12330 non-null  uint8  \n",
      " 40  Region_8                       12330 non-null  uint8  \n",
      " 41  Region_9                       12330 non-null  uint8  \n",
      " 42  TrafficType_1                  12330 non-null  uint8  \n",
      " 43  TrafficType_2                  12330 non-null  uint8  \n",
      " 44  TrafficType_3                  12330 non-null  uint8  \n",
      " 45  TrafficType_4                  12330 non-null  uint8  \n",
      " 46  TrafficType_5                  12330 non-null  uint8  \n",
      " 47  TrafficType_6                  12330 non-null  uint8  \n",
      " 48  TrafficType_7                  12330 non-null  uint8  \n",
      " 49  TrafficType_8                  12330 non-null  uint8  \n",
      " 50  TrafficType_9                  12330 non-null  uint8  \n",
      " 51  TrafficType_10                 12330 non-null  uint8  \n",
      " 52  TrafficType_11                 12330 non-null  uint8  \n",
      " 53  TrafficType_12                 12330 non-null  uint8  \n",
      " 54  TrafficType_13                 12330 non-null  uint8  \n",
      " 55  TrafficType_14                 12330 non-null  uint8  \n",
      " 56  TrafficType_15                 12330 non-null  uint8  \n",
      " 57  TrafficType_16                 12330 non-null  uint8  \n",
      " 58  TrafficType_17                 12330 non-null  uint8  \n",
      " 59  TrafficType_18                 12330 non-null  uint8  \n",
      " 60  TrafficType_19                 12330 non-null  uint8  \n",
      " 61  TrafficType_20                 12330 non-null  uint8  \n",
      " 62  VisitorType_New_Visitor        12330 non-null  uint8  \n",
      " 63  VisitorType_Other              12330 non-null  uint8  \n",
      " 64  VisitorType_Returning_Visitor  12330 non-null  uint8  \n",
      " 65  Month_Aug                      12330 non-null  uint8  \n",
      " 66  Month_Dec                      12330 non-null  uint8  \n",
      " 67  Month_Feb                      12330 non-null  uint8  \n",
      " 68  Month_Jul                      12330 non-null  uint8  \n",
      " 69  Month_June                     12330 non-null  uint8  \n",
      " 70  Month_Mar                      12330 non-null  uint8  \n",
      " 71  Month_May                      12330 non-null  uint8  \n",
      " 72  Month_Nov                      12330 non-null  uint8  \n",
      " 73  Month_Oct                      12330 non-null  uint8  \n",
      " 74  Month_Sep                      12330 non-null  uint8  \n",
      "dtypes: float64(7), int64(5), uint8(63)\n",
      "memory usage: 1.9 MB\n"
     ]
    }
   ],
   "source": [
    "df.info()"
   ]
  },
  {
   "cell_type": "code",
   "execution_count": 189,
   "id": "4cdb88a5",
   "metadata": {
    "id": "c6863764"
   },
   "outputs": [],
   "source": [
    "# Separate our predictors and response variable\n",
    "X = df.drop('Revenue', axis= 1)\n",
    "y = df['Revenue']"
   ]
  },
  {
   "cell_type": "code",
   "execution_count": 190,
   "id": "e5c8cc69",
   "metadata": {},
   "outputs": [
    {
     "data": {
      "text/plain": [
       "0        0\n",
       "1        0\n",
       "2        0\n",
       "3        0\n",
       "4        0\n",
       "        ..\n",
       "12325    0\n",
       "12326    0\n",
       "12327    0\n",
       "12328    0\n",
       "12329    0\n",
       "Name: Revenue, Length: 12330, dtype: int64"
      ]
     },
     "execution_count": 190,
     "metadata": {},
     "output_type": "execute_result"
    }
   ],
   "source": [
    "y"
   ]
  },
  {
   "cell_type": "markdown",
   "id": "3ab4a54e",
   "metadata": {
    "colab": {
     "base_uri": "https://localhost:8080/",
     "height": 270
    },
    "id": "Sv1ZZGCRlqq1",
    "outputId": "ec0c932d-cb8f-4397-eda0-2f0b104a391f"
   },
   "source": [
    "### Binning rare categories\n",
    "Some categories have very rare presense. To reduce dimension, bin some of those variables"
   ]
  },
  {
   "cell_type": "code",
   "execution_count": 191,
   "id": "cae9f4dd",
   "metadata": {},
   "outputs": [],
   "source": [
    "# Bin low frequency OS categories\n",
    "operOthers = X.loc[:,['OperatingSystems_4','OperatingSystems_5', 'OperatingSystems_6', 'OperatingSystems_7','OperatingSystems_8']]\n",
    "X['operOthers'] = operOthers.any(axis=1).astype('int')\n",
    "X.drop(['OperatingSystems_4','OperatingSystems_5', 'OperatingSystems_6', 'OperatingSystems_7','OperatingSystems_8'],axis=1,inplace=True)"
   ]
  },
  {
   "cell_type": "code",
   "execution_count": 192,
   "id": "5f75368c",
   "metadata": {},
   "outputs": [],
   "source": [
    "# Bin low frequency Browser categories\n",
    "otherBrowser = X.loc[:,['Browser_3','Browser_5', 'Browser_6', 'Browser_7', 'Browser_8',\n",
    "       'Browser_9', 'Browser_10', 'Browser_11', 'Browser_12', 'Browser_13']]\n",
    "X['otherBrowser'] = otherBrowser.any(axis=1).astype('int')\n",
    "X.drop(['Browser_3','Browser_5', 'Browser_6', 'Browser_7', 'Browser_8',\n",
    "       'Browser_9', 'Browser_10', 'Browser_11', 'Browser_12', 'Browser_13'],axis=1,inplace=True)"
   ]
  },
  {
   "cell_type": "code",
   "execution_count": 193,
   "id": "e4178379",
   "metadata": {},
   "outputs": [],
   "source": [
    "# Bin low frequency Region type\n",
    "otherRegion = X.loc[:,['Region_5', 'Region_8', 'Region_9']]\n",
    "X['otherRegion'] = otherRegion.any(axis=1).astype('int')\n",
    "X.drop(['Region_5', 'Region_8', 'Region_9'],axis=1,inplace=True)"
   ]
  },
  {
   "cell_type": "code",
   "execution_count": 194,
   "id": "66afdb27",
   "metadata": {},
   "outputs": [],
   "source": [
    "# Bin low frequency Traffic Type\n",
    "otherTrafficType1 = X.loc[:,['TrafficType_7', 'TrafficType_9', 'TrafficType_12', 'TrafficType_14',\n",
    "       'TrafficType_15', 'TrafficType_16', 'TrafficType_17', 'TrafficType_18',\n",
    "       'TrafficType_19', 'TrafficType_20']]\n",
    "X['otherTrafficType1'] = otherTrafficType1.any(axis=1).astype('int')\n",
    "X.drop(['TrafficType_7', 'TrafficType_9', 'TrafficType_12', 'TrafficType_14',\n",
    "       'TrafficType_15', 'TrafficType_16', 'TrafficType_17', 'TrafficType_18',\n",
    "       'TrafficType_19', 'TrafficType_20'],axis=1,inplace=True)"
   ]
  },
  {
   "cell_type": "code",
   "execution_count": 195,
   "id": "7174d3d7",
   "metadata": {},
   "outputs": [],
   "source": [
    "# drop low frequency vistor Type\n",
    "# First of all, the presence of this category is very low and it's very questionable whether it will affect the result\n",
    "# Next, logically speaking, for visitor type, the other two types are \"New\" and \"Returning\", which pretty much\n",
    "# encompass all the possible situations. Thus, it seems reasonable to drop this dummy variable\n",
    "X.drop(['VisitorType_Other'],axis=1,inplace=True)"
   ]
  },
  {
   "cell_type": "code",
   "execution_count": 196,
   "id": "0ce703ee",
   "metadata": {},
   "outputs": [
    {
     "data": {
      "text/plain": [
       "TrafficType_5        0.021087\n",
       "TrafficType_6        0.036010\n",
       "TrafficType_8        0.027818\n",
       "TrafficType_10       0.036496\n",
       "TrafficType_11       0.020032\n",
       "Month_Aug            0.035118\n",
       "Month_Feb            0.014923\n",
       "Month_Jul            0.035036\n",
       "Month_June           0.023358\n",
       "Month_Oct            0.044526\n",
       "Month_Sep            0.036334\n",
       "operOthers           0.047770\n",
       "otherTrafficType1    0.029440\n",
       "dtype: float64"
      ]
     },
     "execution_count": 196,
     "metadata": {},
     "output_type": "execute_result"
    }
   ],
   "source": [
    "# Check other low presense categories' presense\n",
    "X_cate = X.iloc[:,10:]\n",
    "frequency = X_cate.sum()/len(X)\n",
    "frequency[np.where(frequency < 0.05)[0]]"
   ]
  },
  {
   "cell_type": "code",
   "execution_count": 197,
   "id": "0f94f065",
   "metadata": {},
   "outputs": [],
   "source": [
    "# Split and normalize the dataset\n",
    "X_train, X_test, y_train, y_test = train_test_split(X, y, random_state= 1 ,test_size=0.3)"
   ]
  },
  {
   "cell_type": "code",
   "execution_count": 198,
   "id": "b10633da",
   "metadata": {},
   "outputs": [],
   "source": [
    "X_mean = X_train.iloc[:,:10].mean()\n",
    "X_std = X_train.iloc[:,:10].std()"
   ]
  },
  {
   "cell_type": "code",
   "execution_count": 199,
   "id": "6b4abe87",
   "metadata": {},
   "outputs": [],
   "source": [
    "X_train.iloc[:,:10] = (X_train.iloc[:,:10]-X_mean)/X_std\n",
    "X_test.iloc[:,:10] = (X_test.iloc[:,:10]-X_mean)/X_std"
   ]
  },
  {
   "cell_type": "code",
   "execution_count": 274,
   "id": "3e44075d",
   "metadata": {},
   "outputs": [],
   "source": [
    "# Oversample the training set using SMOTE\n",
    "X_train, y_train = SMOTE().fit_resample(X_train, y_train) "
   ]
  },
  {
   "cell_type": "code",
   "execution_count": 96,
   "id": "mZKpmUudP0Fs",
   "metadata": {
    "id": "mZKpmUudP0Fs"
   },
   "outputs": [],
   "source": [
    "def performance(pred,y_test):\n",
    "    print('Recall is {}'.format(metrics.recall_score(pred,y_test)))\n",
    "    print('Precision is {}'.format(metrics.precision_score(pred,y_test)))\n",
    "    print('F-1 score is {}'.format(metrics.f1_score(pred,y_test)))\n",
    "    print('Overall accuracy is {}'.format(metrics.accuracy_score(pred,y_test)))"
   ]
  },
  {
   "cell_type": "code",
   "execution_count": 97,
   "id": "6431b30c-ffba-467f-adc0-b86512eeb476",
   "metadata": {},
   "outputs": [
    {
     "data": {
      "text/plain": [
       "(14546, 49)"
      ]
     },
     "execution_count": 97,
     "metadata": {},
     "output_type": "execute_result"
    }
   ],
   "source": []
  },
  {
   "cell_type": "markdown",
   "id": "LRDuuZEfP0-F",
   "metadata": {
    "id": "LRDuuZEfP0-F"
   },
   "source": [
    "# Model Fitting and Evaluation"
   ]
  },
  {
   "cell_type": "markdown",
   "id": "49c979b2",
   "metadata": {},
   "source": [
    "## Logistic Regression"
   ]
  },
  {
   "cell_type": "code",
   "execution_count": 36,
   "id": "fba107f0",
   "metadata": {},
   "outputs": [],
   "source": [
    "class LogisticRegression:\n",
    "    \n",
    "    def __init__(self,X,y, learningRate = 0.00001, tolerance = 0.00005, maxIteration = 5000):\n",
    "        #super().__init__()\n",
    "        self.X = X\n",
    "        self.y =y\n",
    "        self.tolerance = tolerance\n",
    "        self.maxIteration = maxIteration\n",
    "        self.learningRate = learningRate\n",
    "        \n",
    "    def addX0(self,X):\n",
    "        return np.column_stack([np.ones([X.shape[0],1]),X])\n",
    "    \n",
    "    def sigmoid(self,z):\n",
    "        sig = 1/(1+np.exp(-z))\n",
    "        return sig\n",
    "    \n",
    "    def costFunction(self, X, y):\n",
    "        pred_ =np.log(np.ones(X.shape[0])+np.exp(X.dot(self.w))) - X.dot(self.w)*y\n",
    "        cost = pred_.sum( )\n",
    "        return cost\n",
    "    \n",
    "    def gradient(self,X,y):\n",
    "        sigmoid = self.sigmoid(X.dot(self.w))\n",
    "        grad = (sigmoid -y ).dot(X)\n",
    "        return grad\n",
    "    \n",
    "    def gradientDescent(self, X, y):\n",
    "        errors = []\n",
    "        last = float('inf')\n",
    "        \n",
    "        for i in tqdm(range(self.maxIteration)):\n",
    "        \n",
    "            self.w = self.w - self.learningRate*self.gradient(X,y)\n",
    "            curr = self.costFunction(X,y)\n",
    "            \n",
    "            diff = last - curr\n",
    "            last - curr\n",
    "            \n",
    "            errors.append(curr)\n",
    "            \n",
    "            if diff < self.tolerance:\n",
    "                print(\"The model stopped Learning\")\n",
    "                break\n",
    "        # self.plot_cost(errors)\n",
    "        \n",
    "    def predict(self,X):\n",
    "        pred = self.sigmoid(X.dot(self.w))\n",
    "        return np.around(pred)\n",
    "        \n",
    "    def evaluate(self, y, y_hat):\n",
    "        \n",
    "        y = (y == 1)\n",
    "        y_hat = (y_hat == 1)\n",
    "        \n",
    "        accuracy = (y == y_hat).sum() / y.size\n",
    "        precision = (y & y_hat).sum() / y_hat.sum()\n",
    "        recall = (y & y_hat).sum() / y.sum()\n",
    "        \n",
    "        return recall, precision, accuracy\n",
    "    \n",
    "    def fit(self):\n",
    "        self.w = np.ones(self.X.shape[1], dtype = np.float64)*0\n",
    "        self.gradientDescent(self.X, self.y)\n",
    "        \n",
    "        print(self.w)\n",
    "        \n",
    "        y_hat_train = self.predict(self.X)\n",
    "        recall, precision, accuracy = self.evaluate(self.y,y_hat_train)\n",
    "\n",
    "        \n",
    "        print(\"Accuracy is\", accuracy)\n",
    "        print('Recall is', recall)\n",
    "        print('precision is ', precision)\n",
    "        \n",
    "        \n",
    "    def plot(self):\n",
    "        plt.figure(figsize=(12, 8))\n",
    "        ax = plt.axes(projection='3d')\n",
    "\n",
    "        # Data for three-dimensional scattered points\n",
    "        ax.scatter3D(self.X[:, 0], self.X[:, 1], \n",
    "                     self.sigmoid(self.X.dot(self.w)), \n",
    "                     c = self.y[:], cmap='viridis', s=100);\n",
    "\n",
    "        ax.set_xlim3d(55, 80)\n",
    "        ax.set_ylim3d(80, 240)\n",
    "        plt.xlabel('$x_1$ feature', fontsize=15)\n",
    "        plt.ylabel('$x_2$ feature', fontsize=15, )\n",
    "        ax.set_zlabel('$P(Y = 1|x_1, x_2)$', fontsize=15, rotation = 0)\n",
    "\n",
    "    \n",
    "    \n",
    "    def scatterPlt(self):\n",
    "        # evenly sampled points\n",
    "        x_min, x_max = 55, 80\n",
    "        y_min, y_max = 80, 240\n",
    "\n",
    "        xx, yy = np.meshgrid(np.linspace(x_min, x_max, 250),\n",
    "                             np.linspace(y_min, y_max, 250))\n",
    "        grid = np.c_[xx.ravel(), yy.ravel()]\n",
    "        probs = grid.dot(self.w).reshape(xx.shape)\n",
    "\n",
    "        f, ax = plt.subplots(figsize=(14,12))\n",
    "\n",
    "\n",
    "        ax.contour(xx, yy, probs, levels=[0.5], cmap=\"Greys\", vmin=0, vmax=.6)\n",
    "\n",
    "\n",
    "        ax.scatter(self.X[:, 0], self.X[:, 1], \n",
    "                   c=self.y[:], s=50,\n",
    "                   cmap=\"RdBu\", vmin=-.2, vmax=1.2,\n",
    "                   edgecolor=\"white\", linewidth=1)\n",
    "\n",
    "        plt.xlabel('x1 feature')\n",
    "        plt.ylabel('x2 feature')\n",
    "        \n",
    "\n",
    "    def plot3D(self):\n",
    "        # evenly sampled points\n",
    "        x_min, x_max = 55, 80\n",
    "        y_min, y_max = 80, 240\n",
    "        \n",
    "        xx, yy = np.meshgrid(np.linspace(x_min, x_max, 250),\n",
    "                             np.linspace(y_min, y_max, 250))\n",
    "        \n",
    "        grid = np.c_[xx.ravel(), yy.ravel()]\n",
    "        probs = grid.dot(self.w).reshape(xx.shape)\n",
    "        fig = plt.figure(figsize=(14,12))\n",
    "        ax = plt.axes(projection='3d')\n",
    "        ax.contour3D(xx, yy, probs, 50, cmap='binary')\n",
    "\n",
    "        ax.scatter3D(self.X[:, 0], self.X[:, 1], \n",
    "                   c=self.y[:], s=50,\n",
    "                   cmap=\"RdBu\", vmin=-.2, vmax=1.2,\n",
    "                   edgecolor=\"white\", linewidth=1)\n",
    "\n",
    "        ax.set_xlabel('x1')\n",
    "        ax.set_ylabel('x2')\n",
    "        ax.set_zlabel('probs')\n",
    "        ax.set_title('3D contour')\n",
    "        plt.show()"
   ]
  },
  {
   "cell_type": "code",
   "execution_count": 37,
   "id": "22ce47b4",
   "metadata": {},
   "outputs": [
    {
     "name": "stderr",
     "output_type": "stream",
     "text": [
      "100%|████████████████████████████████████| 10000/10000 [00:51<00:00, 193.60it/s]"
     ]
    },
    {
     "name": "stdout",
     "output_type": "stream",
     "text": [
      "Administrative                  -0.038609\n",
      "Administrative_Duration         -0.025251\n",
      "Informational                   -0.041819\n",
      "Informational_Duration          -0.033541\n",
      "ProductRelated                   0.004810\n",
      "ProductRelated_Duration          0.148339\n",
      "BounceRates                     -0.092804\n",
      "ExitRates                       -1.057120\n",
      "PageValues                       2.172198\n",
      "SpecialDay                      -0.076432\n",
      "Weekend                         -0.183352\n",
      "OperatingSystems_1               0.031922\n",
      "OperatingSystems_2               0.400405\n",
      "OperatingSystems_3              -0.040569\n",
      "Browser_1                        0.632899\n",
      "Browser_2                        0.536678\n",
      "Browser_4                        0.138188\n",
      "Region_1                        -2.067023\n",
      "Region_2                        -2.437772\n",
      "Region_3                        -2.090645\n",
      "Region_4                        -2.424411\n",
      "Region_6                        -2.237509\n",
      "Region_7                        -2.685012\n",
      "TrafficType_1                   -1.895660\n",
      "TrafficType_2                   -1.360816\n",
      "TrafficType_3                   -2.202579\n",
      "TrafficType_4                   -1.757192\n",
      "TrafficType_5                   -1.711416\n",
      "TrafficType_6                   -2.726292\n",
      "TrafficType_8                   -1.464579\n",
      "TrafficType_10                  -2.165247\n",
      "TrafficType_11                  -1.734307\n",
      "TrafficType_13                  -3.094982\n",
      "VisitorType_New_Visitor          3.382807\n",
      "VisitorType_Returning_Visitor    3.615603\n",
      "Month_Aug                       -2.108040\n",
      "Month_Dec                       -2.126134\n",
      "Month_Feb                       -4.052803\n",
      "Month_Jul                       -1.779944\n",
      "Month_June                      -2.372727\n",
      "Month_Mar                       -2.249337\n",
      "Month_May                       -2.117023\n",
      "Month_Nov                       -0.694728\n",
      "Month_Oct                       -1.873638\n",
      "Month_Sep                       -1.763586\n",
      "operOthers                      -0.287843\n",
      "otherBrowser                     0.252587\n",
      "otherRegion                     -2.585727\n",
      "otherTrafficType1               -1.565515\n",
      "dtype: float64\n",
      "Accuracy is 0.8894541454695449\n",
      "Recall is 0.8534304963563867\n",
      "precision is  0.9196918061935101\n"
     ]
    },
    {
     "name": "stderr",
     "output_type": "stream",
     "text": [
      "\n"
     ]
    }
   ],
   "source": [
    "lg_clf = LogisticRegression(X_train,y_train,learningRate = 1e-4, tolerance = 0.0001, maxIteration = 10000)\n",
    "lg_clf.fit()"
   ]
  },
  {
   "cell_type": "code",
   "execution_count": 38,
   "id": "2RZBM7pHP4dQ",
   "metadata": {
    "id": "2RZBM7pHP4dQ"
   },
   "outputs": [],
   "source": [
    "pred = lg_clf.predict(X_test)"
   ]
  },
  {
   "cell_type": "code",
   "execution_count": 39,
   "id": "3Phw3nAQP4fu",
   "metadata": {
    "id": "3Phw3nAQP4fu"
   },
   "outputs": [
    {
     "name": "stdout",
     "output_type": "stream",
     "text": [
      "Recall is 0.5915492957746479\n",
      "Precision is 0.610909090909091\n",
      "F-1 score is 0.6010733452593918\n",
      "Overall accuracy is 0.8794268721276021\n"
     ]
    }
   ],
   "source": [
    "performance(pred,y_test)"
   ]
  },
  {
   "cell_type": "markdown",
   "id": "5b9b84e8",
   "metadata": {},
   "source": [
    "## Soft margin SVM"
   ]
  },
  {
   "cell_type": "code",
   "execution_count": 40,
   "id": "5983abc9",
   "metadata": {},
   "outputs": [],
   "source": [
    "from scipy import optimize\n",
    "from scipy.optimize import Bounds"
   ]
  },
  {
   "cell_type": "code",
   "execution_count": 41,
   "id": "b58769a0",
   "metadata": {},
   "outputs": [],
   "source": [
    "class MaxMarginClassifier:\n",
    "    def __init__(self, C):\n",
    "        self.C = C\n",
    "    \n",
    "    def fit(self, X, y):\n",
    "        N = len(y)\n",
    "        X = X.values\n",
    "        y = y.values\n",
    "        Xy = X*y[:, np.newaxis]\n",
    "        Gramxy = np.matmul(Xy, Xy.T)   # y_i * y_j *(X_i.T * X_j)\n",
    "        \n",
    "        def ld0(G, alpha):\n",
    "            return alpha.sum() - 0.5*alpha.dot(alpha.dot(G))\n",
    "        \n",
    "        def deriviationLd0(G, alpha):\n",
    "            return np.ones_like(alpha) - alpha.dot(G)\n",
    "        \n",
    "        alpha = np.ones(N)\n",
    "        \n",
    "        A = np.vstack((-np.eye(N), np.eye(N)))       \n",
    "        bounds_alpha = Bounds(np.zeros(N), np.full(N, self.C))  \n",
    "\n",
    "        constraints = ({'type': 'eq',   'fun': lambda a: np.dot(a, y),\n",
    "                        'jac': lambda a: y})\n",
    "        \n",
    "        optRes = optimize.minimize(fun = lambda a: -ld0(Gramxy, a),   # in computer, minimize is always faster than maximize\n",
    "                                   x0 = alpha,\n",
    "                                   jac = lambda a: - deriviationLd0(Gramxy, a),\n",
    "                                   constraints=constraints,\n",
    "                                   bounds = bounds_alpha)\n",
    "        \n",
    "        self.alpha = optRes.x\n",
    "        self.w = np.sum((self.alpha[:, np.newaxis] * Xy), axis =0)\n",
    "        \n",
    "        epsilons = 1e-6\n",
    "        \n",
    "        self.supportVectors = X[self.alpha > epsilons]\n",
    "        \n",
    "        self.supportlabels = y[self.alpha > epsilons]\n",
    "        \n",
    "        b = []\n",
    "        \n",
    "        for i in range(len(self.supportVectors)):\n",
    "            b_i = self.supportlabels[i] - np.matmul(self.supportVectors[i].T, self.w)\n",
    "            b.append(b_i)\n",
    "            \n",
    "        self.intercept = sum(b)/len(b)\n",
    "        \n",
    "        \n",
    "        \n",
    "    def predict(self, X):\n",
    "        X = X.values\n",
    "        return 2*(np.matmul(X, self.w)+ self.intercept >0) -1"
   ]
  },
  {
   "cell_type": "code",
   "execution_count": 42,
   "id": "bd5097d9",
   "metadata": {},
   "outputs": [],
   "source": [
    "class KernelSVM:\n",
    "    def __init__(self, C=1, gamma=1):\n",
    "        self.C = C\n",
    "        self.gamma = gamma\n",
    "        print('C is: {}, gamma is {}'.format(self.C,self.gamma))\n",
    "    def rbf_kernel(self, X, Y, gamma):\n",
    "        X_norm = np.sum(X ** 2, axis=-1)\n",
    "        Y_norm = np.sum(Y ** 2, axis=-1)\n",
    "        K = np.exp(-gamma * (X_norm[:, None] + Y_norm[None, :] - 2 * np.dot(X, Y.T)))\n",
    "        return K\n",
    "    \n",
    "    \n",
    "    def fit(self, X, y):\n",
    "        N = len(y)\n",
    "        X = X.values\n",
    "        y = y.values\n",
    "        self.gamma = 2*self.gamma/len(X[0])\n",
    "        yy = y[:, np.newaxis].dot(y[:, np.newaxis].T)\n",
    "        Gramxy = yy*self.rbf_kernel(X,X,self.gamma)   # y_i * y_j *(X_i.T * X_j)\n",
    "        print('Gramxy calculated')\n",
    "        def ld0(G, alpha):\n",
    "            return alpha.sum() - 0.5*alpha.dot(alpha.dot(G))\n",
    "        \n",
    "        def deriviationLd0(G, alpha):\n",
    "            return np.ones_like(alpha) - alpha.dot(G)\n",
    "        \n",
    "        alpha = np.ones(N)\n",
    "        \n",
    "        A = np.vstack((-np.eye(N), np.eye(N)))       \n",
    "        bounds_alpha = Bounds(np.zeros(N), np.full(N, self.C))  \n",
    "\n",
    "        constraints = ({'type': 'eq',   'fun': lambda a: np.dot(a, y),\n",
    "                        'jac': lambda a: y})\n",
    "        print('Begin optimization')\n",
    "        optRes = optimize.minimize(fun = lambda a: -ld0(Gramxy, a),   # in computer, minimize is always faster than maximize\n",
    "                                   x0 = alpha,\n",
    "                                   tol = 1e-6,\n",
    "                                   method='SLSQP',\n",
    "                                   jac = lambda a: - deriviationLd0(Gramxy, a),\n",
    "                                   constraints=constraints,\n",
    "                                   bounds = bounds_alpha,\n",
    "                                   options={'iprint':1, 'disp':True} )\n",
    "        print('Optimization finished')\n",
    "        self.result = optRes\n",
    "        self.alpha = optRes.x\n",
    "        #self.w = np.sum((self.alpha[:, np.newaxis] * Xy), axis =0)\n",
    "        \n",
    "        epsilons = 1e-6\n",
    "        \n",
    "        self.supportVectors = X[self.alpha > epsilons]\n",
    "        self.supportAlpha = self.alpha[self.alpha > epsilons]\n",
    "        self.supportlabels = y[self.alpha > epsilons]\n",
    "        print('Support Vectors found')\n",
    "        b = []\n",
    "        \n",
    "        for i in range(len(self.supportVectors)):\n",
    "            #b_i = self.supportlabels[i] - np.matmul(self.supportVectors[i].T, self.w)\n",
    "            b_i = self.supportlabels[i] - (self.supportAlpha*self.supportlabels*self.rbf_kernel(self.supportVectors[i:i+1],self.supportVectors ,self.gamma)[0]).sum()           \n",
    "            b.append(b_i)\n",
    "            \n",
    "        self.intercept = sum(b)/len(b)\n",
    "        print('Intercept calculated')\n",
    "        return self\n",
    "        \n",
    "    def predict(self, X):\n",
    "        X = X.values\n",
    "        alphaY = self.supportAlpha*self.supportlabels\n",
    "        return 2*((alphaY[:,np.newaxis]*(self.rbf_kernel(self.supportVectors ,X ,self.gamma))).sum(axis = 0)+ self.intercept >0) -1\n",
    "    \n",
    "    def score(self,X,y):\n",
    "        return metrics.f1_score(self.predict(X),y)\n",
    "    \n",
    "    def get_params(self, deep=False):\n",
    "\n",
    "        params = {'C': self.C,\n",
    "                  'gamma': self.gamma\n",
    "                  }\n",
    "\n",
    "        return params\n",
    "\n",
    "    def set_params(self, **parameters):\n",
    "        for parameter, value in parameters.items():\n",
    "            setattr(self, parameter, value)\n",
    "        return self"
   ]
  },
  {
   "cell_type": "markdown",
   "id": "c0e73eae",
   "metadata": {},
   "source": [
    "### Normalization"
   ]
  },
  {
   "cell_type": "code",
   "execution_count": 43,
   "id": "3918d622",
   "metadata": {},
   "outputs": [],
   "source": [
    "y_svm = y.copy()\n",
    "y_svm.replace(0,-1,inplace= True)\n",
    "X_train, X_test, y_train, y_test = train_test_split(X, y_svm, random_state= 1 ,test_size=0.95)\n",
    "X_mean = X_train.iloc[:,:10].mean()\n",
    "X_std = X_train.iloc[:,:10].std()\n",
    "X_train.iloc[:,:10] = (X_train.iloc[:,:10]-X_mean)/X_std\n",
    "X_test.iloc[:,:10] = (X_test.iloc[:,:10]-X_mean)/X_std"
   ]
  },
  {
   "cell_type": "markdown",
   "id": "24226b0e",
   "metadata": {},
   "source": [
    "### PCA"
   ]
  },
  {
   "cell_type": "code",
   "execution_count": 44,
   "id": "84d4aee2",
   "metadata": {},
   "outputs": [],
   "source": [
    "class PCA_eigen:\n",
    "    def __init__(self, X):\n",
    "        self.corr = X.corr()\n",
    "        self.corr.fillna(0,inplace=True)\n",
    "        self.egnvalues,self.egnvectors=np.linalg.eigh(self.corr)\n",
    "        self.egnvalues=abs(np.sort(-self.egnvalues))\n",
    "        # The column egnvectors[:, i] is the normalized eigenvector corresponding to the eigenvalue w[i]. \n",
    "        variance_ratio=self.egnvalues/self.egnvalues.sum()\n",
    "        self.cumvar = np.cumsum(variance_ratio)\n",
    "    def transform(self,X,explain_var):\n",
    "        PCs = np.where(self.cumvar>explain_var)[0].min()\n",
    "        print('Return {} PCs and explain {}% variance'.format(PCs,self.cumvar[PCs]*100 ))\n",
    "        return X.dot(self.egnvectors[:,:PCs])"
   ]
  },
  {
   "cell_type": "code",
   "execution_count": 45,
   "id": "a3a5d6fc",
   "metadata": {},
   "outputs": [
    {
     "name": "stdout",
     "output_type": "stream",
     "text": [
      "Return 35 PCs and explain 95.70178407651265% variance\n",
      "Return 35 PCs and explain 95.70178407651265% variance\n"
     ]
    }
   ],
   "source": [
    "PCA_clf = PCA_eigen(X_train)\n",
    "X_train = PCA_clf.transform(X_train,0.95)\n",
    "X_test = PCA_clf.transform(X_test,0.95)"
   ]
  },
  {
   "cell_type": "code",
   "execution_count": 46,
   "id": "c1286d14",
   "metadata": {},
   "outputs": [],
   "source": [
    "# Oversample with SMOTE\n",
    "X_train, y_train = SMOTE().fit_resample(X_train, y_train) "
   ]
  },
  {
   "cell_type": "code",
   "execution_count": 47,
   "id": "b68b9db5",
   "metadata": {},
   "outputs": [
    {
     "name": "stdout",
     "output_type": "stream",
     "text": [
      "C is: 1, gamma is 1\n"
     ]
    }
   ],
   "source": [
    "# Attempt to gauge what C and gamma value will be by using small-sized data\n",
    "from sklearn.model_selection import GridSearchCV\n",
    "parameters = {'C': np.linspace(1.5, 3, 4),\n",
    "              'gamma': np.linspace(0.8, 1.5, 3)}\n",
    "clf = KernelSVM()       \n",
    "gs = GridSearchCV(clf, parameters, cv=2)"
   ]
  },
  {
   "cell_type": "code",
   "execution_count": 48,
   "id": "13346934",
   "metadata": {},
   "outputs": [
    {
     "name": "stdout",
     "output_type": "stream",
     "text": [
      "C is: 1, gamma is 1\n",
      "C is: 1, gamma is 1\n",
      "Gramxy calculated\n",
      "Begin optimization\n",
      "Optimization terminated successfully    (Exit mode 0)\n",
      "            Current function value: -224.41357984592582\n",
      "            Iterations: 94\n",
      "            Function evaluations: 98\n",
      "            Gradient evaluations: 94\n",
      "Optimization finished\n",
      "Support Vectors found\n",
      "Intercept calculated\n",
      "C is: 1, gamma is 1\n",
      "Gramxy calculated\n",
      "Begin optimization\n",
      "Optimization terminated successfully    (Exit mode 0)\n",
      "            Current function value: -223.40026556072303\n",
      "            Iterations: 50\n",
      "            Function evaluations: 53\n",
      "            Gradient evaluations: 50\n",
      "Optimization finished\n",
      "Support Vectors found\n",
      "Intercept calculated\n",
      "C is: 1, gamma is 1\n",
      "Gramxy calculated\n",
      "Begin optimization\n",
      "Optimization terminated successfully    (Exit mode 0)\n",
      "            Current function value: -207.97045108554474\n",
      "            Iterations: 77\n",
      "            Function evaluations: 82\n",
      "            Gradient evaluations: 77\n",
      "Optimization finished\n",
      "Support Vectors found\n",
      "Intercept calculated\n",
      "C is: 1, gamma is 1\n",
      "Gramxy calculated\n",
      "Begin optimization\n",
      "Optimization terminated successfully    (Exit mode 0)\n",
      "            Current function value: -215.0164845624963\n",
      "            Iterations: 47\n",
      "            Function evaluations: 52\n",
      "            Gradient evaluations: 47\n",
      "Optimization finished\n",
      "Support Vectors found\n",
      "Intercept calculated\n",
      "C is: 1, gamma is 1\n",
      "Gramxy calculated\n",
      "Begin optimization\n",
      "Iteration limit reached    (Exit mode 9)\n",
      "            Current function value: -194.22278200922847\n",
      "            Iterations: 100\n",
      "            Function evaluations: 104\n",
      "            Gradient evaluations: 100\n",
      "Optimization finished\n",
      "Support Vectors found\n",
      "Intercept calculated\n",
      "C is: 1, gamma is 1\n",
      "Gramxy calculated\n",
      "Begin optimization\n",
      "Optimization terminated successfully    (Exit mode 0)\n",
      "            Current function value: -207.75188948915465\n",
      "            Iterations: 43\n",
      "            Function evaluations: 49\n",
      "            Gradient evaluations: 43\n",
      "Optimization finished\n",
      "Support Vectors found\n",
      "Intercept calculated\n",
      "C is: 1, gamma is 1\n",
      "Gramxy calculated\n",
      "Begin optimization\n",
      "Optimization terminated successfully    (Exit mode 0)\n",
      "            Current function value: -284.0302165549801\n",
      "            Iterations: 90\n",
      "            Function evaluations: 95\n",
      "            Gradient evaluations: 90\n",
      "Optimization finished\n",
      "Support Vectors found\n",
      "Intercept calculated\n",
      "C is: 1, gamma is 1\n",
      "Gramxy calculated\n",
      "Begin optimization\n",
      "Optimization terminated successfully    (Exit mode 0)\n",
      "            Current function value: -289.7751225941164\n",
      "            Iterations: 57\n",
      "            Function evaluations: 63\n",
      "            Gradient evaluations: 57\n",
      "Optimization finished\n",
      "Support Vectors found\n",
      "Intercept calculated\n",
      "C is: 1, gamma is 1\n",
      "Gramxy calculated\n",
      "Begin optimization\n",
      "Iteration limit reached    (Exit mode 9)\n",
      "            Current function value: -258.9290173985629\n",
      "            Iterations: 100\n",
      "            Function evaluations: 104\n",
      "            Gradient evaluations: 100\n",
      "Optimization finished\n",
      "Support Vectors found\n",
      "Intercept calculated\n",
      "C is: 1, gamma is 1\n",
      "Gramxy calculated\n",
      "Begin optimization\n",
      "Optimization terminated successfully    (Exit mode 0)\n",
      "            Current function value: -276.72998133012527\n",
      "            Iterations: 52\n",
      "            Function evaluations: 58\n",
      "            Gradient evaluations: 52\n",
      "Optimization finished\n",
      "Support Vectors found\n",
      "Intercept calculated\n",
      "C is: 1, gamma is 1\n",
      "Gramxy calculated\n",
      "Begin optimization\n",
      "Iteration limit reached    (Exit mode 9)\n",
      "            Current function value: -238.79857284266956\n",
      "            Iterations: 100\n",
      "            Function evaluations: 104\n",
      "            Gradient evaluations: 100\n",
      "Optimization finished\n",
      "Support Vectors found\n",
      "Intercept calculated\n",
      "C is: 1, gamma is 1\n",
      "Gramxy calculated\n",
      "Begin optimization\n",
      "Optimization terminated successfully    (Exit mode 0)\n",
      "            Current function value: -265.67108108914135\n",
      "            Iterations: 48\n",
      "            Function evaluations: 54\n",
      "            Gradient evaluations: 48\n",
      "Optimization finished\n",
      "Support Vectors found\n",
      "Intercept calculated\n",
      "C is: 1, gamma is 1\n",
      "Gramxy calculated\n",
      "Begin optimization\n",
      "Optimization terminated successfully    (Exit mode 0)\n",
      "            Current function value: -339.19750770169316\n",
      "            Iterations: 88\n",
      "            Function evaluations: 93\n",
      "            Gradient evaluations: 88\n",
      "Optimization finished\n",
      "Support Vectors found\n",
      "Intercept calculated\n",
      "C is: 1, gamma is 1\n",
      "Gramxy calculated\n",
      "Begin optimization\n",
      "Optimization terminated successfully    (Exit mode 0)\n",
      "            Current function value: -354.06254709532\n",
      "            Iterations: 64\n",
      "            Function evaluations: 69\n",
      "            Gradient evaluations: 64\n",
      "Optimization finished\n",
      "Support Vectors found\n",
      "Intercept calculated\n",
      "C is: 1, gamma is 1\n",
      "Gramxy calculated\n",
      "Begin optimization\n",
      "Optimization terminated successfully    (Exit mode 0)\n",
      "            Current function value: -305.55128557138346\n",
      "            Iterations: 96\n",
      "            Function evaluations: 101\n",
      "            Gradient evaluations: 96\n",
      "Optimization finished\n",
      "Support Vectors found\n",
      "Intercept calculated\n",
      "C is: 1, gamma is 1\n",
      "Gramxy calculated\n",
      "Begin optimization\n",
      "Optimization terminated successfully    (Exit mode 0)\n",
      "            Current function value: -336.0400135116982\n",
      "            Iterations: 55\n",
      "            Function evaluations: 61\n",
      "            Gradient evaluations: 55\n",
      "Optimization finished\n",
      "Support Vectors found\n",
      "Intercept calculated\n",
      "C is: 1, gamma is 1\n",
      "Gramxy calculated\n",
      "Begin optimization\n",
      "Iteration limit reached    (Exit mode 9)\n",
      "            Current function value: -277.99241631788675\n",
      "            Iterations: 100\n",
      "            Function evaluations: 104\n",
      "            Gradient evaluations: 100\n",
      "Optimization finished\n",
      "Support Vectors found\n",
      "Intercept calculated\n",
      "C is: 1, gamma is 1\n",
      "Gramxy calculated\n",
      "Begin optimization\n",
      "Optimization terminated successfully    (Exit mode 0)\n",
      "            Current function value: -320.63345229054573\n",
      "            Iterations: 47\n",
      "            Function evaluations: 54\n",
      "            Gradient evaluations: 47\n",
      "Optimization finished\n",
      "Support Vectors found\n",
      "Intercept calculated\n",
      "C is: 1, gamma is 1\n",
      "Gramxy calculated\n",
      "Begin optimization\n",
      "Iteration limit reached    (Exit mode 9)\n",
      "            Current function value: -390.54188087874024\n",
      "            Iterations: 100\n",
      "            Function evaluations: 104\n",
      "            Gradient evaluations: 100\n",
      "Optimization finished\n",
      "Support Vectors found\n",
      "Intercept calculated\n",
      "C is: 1, gamma is 1\n",
      "Gramxy calculated\n",
      "Begin optimization\n",
      "Optimization terminated successfully    (Exit mode 0)\n",
      "            Current function value: -416.71671211574863\n",
      "            Iterations: 69\n",
      "            Function evaluations: 75\n",
      "            Gradient evaluations: 69\n",
      "Optimization finished\n",
      "Support Vectors found\n",
      "Intercept calculated\n",
      "C is: 1, gamma is 1\n",
      "Gramxy calculated\n",
      "Begin optimization\n",
      "Iteration limit reached    (Exit mode 9)\n",
      "            Current function value: -348.0821160460368\n",
      "            Iterations: 100\n",
      "            Function evaluations: 104\n",
      "            Gradient evaluations: 100\n",
      "Optimization finished\n",
      "Support Vectors found\n",
      "Intercept calculated\n",
      "C is: 1, gamma is 1\n",
      "Gramxy calculated\n",
      "Begin optimization\n",
      "Optimization terminated successfully    (Exit mode 0)\n",
      "            Current function value: -393.3126166689739\n",
      "            Iterations: 59\n",
      "            Function evaluations: 66\n",
      "            Gradient evaluations: 59\n",
      "Optimization finished\n",
      "Support Vectors found\n",
      "Intercept calculated\n",
      "C is: 1, gamma is 1\n",
      "Gramxy calculated\n",
      "Begin optimization\n",
      "Iteration limit reached    (Exit mode 9)\n",
      "            Current function value: -312.62662621076015\n",
      "            Iterations: 100\n",
      "            Function evaluations: 106\n",
      "            Gradient evaluations: 100\n",
      "Optimization finished\n",
      "Support Vectors found\n",
      "Intercept calculated\n",
      "C is: 1, gamma is 1\n",
      "Gramxy calculated\n",
      "Begin optimization\n",
      "Optimization terminated successfully    (Exit mode 0)\n",
      "            Current function value: -373.04572954861885\n",
      "            Iterations: 47\n",
      "            Function evaluations: 54\n",
      "            Gradient evaluations: 47\n",
      "Optimization finished\n",
      "Support Vectors found\n",
      "Intercept calculated\n",
      "C is: 1, gamma is 1\n",
      "C is: 3.0, gamma is 1.5\n",
      "Gramxy calculated\n",
      "Begin optimization\n",
      "Iteration limit reached    (Exit mode 9)\n",
      "            Current function value: -999.7631815019105\n",
      "            Iterations: 100\n",
      "            Function evaluations: 112\n",
      "            Gradient evaluations: 100\n",
      "Optimization finished\n",
      "Support Vectors found\n",
      "Intercept calculated\n"
     ]
    },
    {
     "data": {
      "text/plain": [
       "GridSearchCV(cv=2, estimator=<__main__.KernelSVM object at 0x7fe30a47af90>,\n",
       "             param_grid={'C': array([1.5, 2. , 2.5, 3. ]),\n",
       "                         'gamma': array([0.8 , 1.15, 1.5 ])})"
      ]
     },
     "execution_count": 48,
     "metadata": {},
     "output_type": "execute_result"
    }
   ],
   "source": [
    "gs.fit(X_train, y_train)"
   ]
  },
  {
   "cell_type": "code",
   "execution_count": 49,
   "id": "e6f2e297",
   "metadata": {},
   "outputs": [
    {
     "data": {
      "text/plain": [
       "{'C': 3.0, 'gamma': 1.5}"
      ]
     },
     "execution_count": 49,
     "metadata": {},
     "output_type": "execute_result"
    }
   ],
   "source": [
    "gs.best_params_"
   ]
  },
  {
   "cell_type": "code",
   "execution_count": 50,
   "id": "0a2b1773",
   "metadata": {},
   "outputs": [
    {
     "name": "stdout",
     "output_type": "stream",
     "text": [
      "C is: 2, gamma is 1\n",
      "Gramxy calculated\n",
      "Begin optimization\n",
      "Iteration limit reached    (Exit mode 9)\n",
      "            Current function value: -870.4587610448989\n",
      "            Iterations: 100\n",
      "            Function evaluations: 108\n",
      "            Gradient evaluations: 100\n",
      "Optimization finished\n",
      "Support Vectors found\n",
      "Intercept calculated\n"
     ]
    },
    {
     "data": {
      "text/plain": [
       "<__main__.KernelSVM at 0x7fe30a475b10>"
      ]
     },
     "execution_count": 50,
     "metadata": {},
     "output_type": "execute_result"
    }
   ],
   "source": [
    "svm_clf = KernelSVM(C = 2, gamma= 1)\n",
    "svm_clf.fit(X_train, y_train)"
   ]
  },
  {
   "cell_type": "code",
   "execution_count": 51,
   "id": "acbe0b34",
   "metadata": {},
   "outputs": [
    {
     "name": "stdout",
     "output_type": "stream",
     "text": [
      "Recall is 0.8888888888888888\n",
      "Precision is 0.8994082840236687\n",
      "F-1 score is 0.8941176470588235\n",
      "Overall accuracy is 0.8947368421052632\n"
     ]
    },
    {
     "data": {
      "text/html": [
       "<div>\n",
       "<style scoped>\n",
       "    .dataframe tbody tr th:only-of-type {\n",
       "        vertical-align: middle;\n",
       "    }\n",
       "\n",
       "    .dataframe tbody tr th {\n",
       "        vertical-align: top;\n",
       "    }\n",
       "\n",
       "    .dataframe thead th {\n",
       "        text-align: right;\n",
       "    }\n",
       "</style>\n",
       "<table border=\"1\" class=\"dataframe\">\n",
       "  <thead>\n",
       "    <tr style=\"text-align: right;\">\n",
       "      <th>Revenue</th>\n",
       "      <th>-1</th>\n",
       "      <th>1</th>\n",
       "    </tr>\n",
       "    <tr>\n",
       "      <th>row_0</th>\n",
       "      <th></th>\n",
       "      <th></th>\n",
       "    </tr>\n",
       "  </thead>\n",
       "  <tbody>\n",
       "    <tr>\n",
       "      <th>-1</th>\n",
       "      <td>462</td>\n",
       "      <td>57</td>\n",
       "    </tr>\n",
       "    <tr>\n",
       "      <th>1</th>\n",
       "      <td>51</td>\n",
       "      <td>456</td>\n",
       "    </tr>\n",
       "  </tbody>\n",
       "</table>\n",
       "</div>"
      ],
      "text/plain": [
       "Revenue   -1    1\n",
       "row_0            \n",
       "-1       462   57\n",
       " 1        51  456"
      ]
     },
     "execution_count": 51,
     "metadata": {},
     "output_type": "execute_result"
    }
   ],
   "source": [
    "pred = svm_clf.predict(X_train)\n",
    "performance(y_train,pred)# gamma 0.5, data 5%, PCA 35\n",
    "pd.crosstab(pred,y_train) # gamma 0.5, data 5%, PCA 35"
   ]
  },
  {
   "cell_type": "markdown",
   "id": "e941b612-6923-49e3-9c7c-47af3422dac3",
   "metadata": {},
   "source": [
    "### Neural Net"
   ]
  },
  {
   "cell_type": "code",
   "execution_count": 275,
   "id": "bb45134c",
   "metadata": {},
   "outputs": [],
   "source": [
    "# import necessary dependencies\n",
    "\n",
    "from keras.models import Sequential\n",
    "from keras.layers import Dense,Dropout\n",
    "from kerastuner.tuners import RandomSearch\n",
    "from kerastuner.engine.hyperparameters import HyperParameters\n",
    "import os\n",
    "import warnings\n",
    "import tensorflow as tf\n",
    "from tensorflow import keras\n",
    "from tensorflow.keras import layers\n",
    "from keras_tuner.tuners import Hyperband\n",
    "from sklearn.model_selection import train_test_split\n",
    "from datetime import datetime\n",
    "from packaging import version\n",
    "from sklearn import metrics\n",
    "from sklearn.metrics import classification_report\n",
    "warnings.filterwarnings('ignore')"
   ]
  },
  {
   "cell_type": "code",
   "execution_count": 277,
   "id": "e8cccdc6-ccbb-4bc4-9656-d6d440026a63",
   "metadata": {},
   "outputs": [],
   "source": [
    "X_train, X_test, y_train, y_test = train_test_split(X, y, test_size=0.2, random_state=42)"
   ]
  },
  {
   "cell_type": "code",
   "execution_count": 278,
   "id": "4a9e2f22-80b2-4f7c-9907-b4123b352762",
   "metadata": {},
   "outputs": [],
   "source": [
    "from sklearn.preprocessing import MinMaxScaler\n",
    "scaler = MinMaxScaler()\n",
    "X_train = scaler.fit_transform(X_train)\n",
    "X_test = scaler.fit_transform(X_test)"
   ]
  },
  {
   "cell_type": "code",
   "execution_count": 302,
   "id": "111366e5-1285-47f9-a52a-728af413b02c",
   "metadata": {},
   "outputs": [
    {
     "ename": "AttributeError",
     "evalue": "'numpy.ndarray' object has no attribute 'values'",
     "output_type": "error",
     "traceback": [
      "\u001b[0;31m---------------------------------------------------------------------------\u001b[0m",
      "\u001b[0;31mAttributeError\u001b[0m                            Traceback (most recent call last)",
      "\u001b[0;32m/var/folders/9p/c6nzdwls4j59_g4r1gpwfd5h0000gn/T/ipykernel_26353/1351733646.py\u001b[0m in \u001b[0;36m<module>\u001b[0;34m\u001b[0m\n\u001b[0;32m----> 1\u001b[0;31m \u001b[0my_train\u001b[0m \u001b[0;34m=\u001b[0m \u001b[0my_train\u001b[0m\u001b[0;34m.\u001b[0m\u001b[0mvalues\u001b[0m\u001b[0;34m\u001b[0m\u001b[0;34m\u001b[0m\u001b[0m\n\u001b[0m\u001b[1;32m      2\u001b[0m \u001b[0my_test\u001b[0m \u001b[0;34m=\u001b[0m \u001b[0my_test\u001b[0m\u001b[0;34m.\u001b[0m\u001b[0mvalues\u001b[0m\u001b[0;34m\u001b[0m\u001b[0;34m\u001b[0m\u001b[0m\n",
      "\u001b[0;31mAttributeError\u001b[0m: 'numpy.ndarray' object has no attribute 'values'"
     ]
    }
   ],
   "source": [
    "y_train = y_train.values\n",
    "y_test = y_test.values"
   ]
  },
  {
   "cell_type": "markdown",
   "id": "78fefd7d-cc7e-4d4c-87dd-270786100fe1",
   "metadata": {},
   "source": [
    "#### Base model for nn"
   ]
  },
  {
   "cell_type": "code",
   "execution_count": 279,
   "id": "1136f992-f95d-4ad3-9418-17604d0331f8",
   "metadata": {},
   "outputs": [
    {
     "name": "stdout",
     "output_type": "stream",
     "text": [
      "Train on 9864 samples, validate on 2466 samples\n",
      "Epoch 1/20\n",
      "9864/9864 [==============================] - 2s 192us/step - loss: 0.4510 - accuracy: 0.8376 - val_loss: 0.4386 - val_accuracy: 0.8333\n",
      "Epoch 2/20\n",
      "9864/9864 [==============================] - 2s 180us/step - loss: 0.4097 - accuracy: 0.8482 - val_loss: 0.4308 - val_accuracy: 0.8333\n",
      "Epoch 3/20\n",
      "9864/9864 [==============================] - 1s 141us/step - loss: 0.3994 - accuracy: 0.8482 - val_loss: 0.4112 - val_accuracy: 0.8333\n",
      "Epoch 4/20\n",
      "9864/9864 [==============================] - 1s 129us/step - loss: 0.3881 - accuracy: 0.8482 - val_loss: 0.3973 - val_accuracy: 0.8333\n",
      "Epoch 5/20\n",
      "9864/9864 [==============================] - 1s 129us/step - loss: 0.3785 - accuracy: 0.8482 - val_loss: 0.3873 - val_accuracy: 0.8333\n",
      "Epoch 6/20\n",
      "9864/9864 [==============================] - 1s 133us/step - loss: 0.3729 - accuracy: 0.8481 - val_loss: 0.3819 - val_accuracy: 0.8341\n",
      "Epoch 7/20\n",
      "9864/9864 [==============================] - 1s 141us/step - loss: 0.3663 - accuracy: 0.8484 - val_loss: 0.3749 - val_accuracy: 0.8337\n",
      "Epoch 8/20\n",
      "9864/9864 [==============================] - 2s 154us/step - loss: 0.3628 - accuracy: 0.8490 - val_loss: 0.3707 - val_accuracy: 0.8382\n",
      "Epoch 9/20\n",
      "9864/9864 [==============================] - 1s 134us/step - loss: 0.3600 - accuracy: 0.8505 - val_loss: 0.3654 - val_accuracy: 0.8427\n",
      "Epoch 10/20\n",
      "9864/9864 [==============================] - 1s 142us/step - loss: 0.3544 - accuracy: 0.8521 - val_loss: 0.3631 - val_accuracy: 0.8504\n",
      "Epoch 11/20\n",
      "9864/9864 [==============================] - 1s 143us/step - loss: 0.3512 - accuracy: 0.8533 - val_loss: 0.3555 - val_accuracy: 0.8516\n",
      "Epoch 12/20\n",
      "9864/9864 [==============================] - 1s 141us/step - loss: 0.3468 - accuracy: 0.8554 - val_loss: 0.3521 - val_accuracy: 0.8500\n",
      "Epoch 13/20\n",
      "9864/9864 [==============================] - 1s 142us/step - loss: 0.3429 - accuracy: 0.8564 - val_loss: 0.3440 - val_accuracy: 0.8520\n",
      "Epoch 14/20\n",
      "9864/9864 [==============================] - 2s 172us/step - loss: 0.3375 - accuracy: 0.8602 - val_loss: 0.3382 - val_accuracy: 0.8528\n",
      "Epoch 15/20\n",
      "9864/9864 [==============================] - 1s 145us/step - loss: 0.3330 - accuracy: 0.8628 - val_loss: 0.3324 - val_accuracy: 0.8589\n",
      "Epoch 16/20\n",
      "9864/9864 [==============================] - 1s 149us/step - loss: 0.3281 - accuracy: 0.8679 - val_loss: 0.3282 - val_accuracy: 0.8573\n",
      "Epoch 17/20\n",
      "9864/9864 [==============================] - 2s 153us/step - loss: 0.3228 - accuracy: 0.8682 - val_loss: 0.3203 - val_accuracy: 0.8633\n",
      "Epoch 18/20\n",
      "9864/9864 [==============================] - 1s 146us/step - loss: 0.3207 - accuracy: 0.8730 - val_loss: 0.3189 - val_accuracy: 0.8621\n",
      "Epoch 19/20\n",
      "9864/9864 [==============================] - 2s 164us/step - loss: 0.3173 - accuracy: 0.8723 - val_loss: 0.3119 - val_accuracy: 0.8674\n",
      "Epoch 20/20\n",
      "9864/9864 [==============================] - 1s 133us/step - loss: 0.3113 - accuracy: 0.8747 - val_loss: 0.3099 - val_accuracy: 0.8674\n",
      "Model: \"sequential_9\"\n",
      "_________________________________________________________________\n",
      "Layer (type)                 Output Shape              Param #   \n",
      "=================================================================\n",
      "dense_17 (Dense)             (None, 64)                3200      \n",
      "_________________________________________________________________\n",
      "dropout_5 (Dropout)          (None, 64)                0         \n",
      "_________________________________________________________________\n",
      "dense_18 (Dense)             (None, 32)                2080      \n",
      "_________________________________________________________________\n",
      "dense_19 (Dense)             (None, 2)                 66        \n",
      "=================================================================\n",
      "Total params: 5,346\n",
      "Trainable params: 5,346\n",
      "Non-trainable params: 0\n",
      "_________________________________________________________________\n"
     ]
    }
   ],
   "source": [
    "model = Sequential()\n",
    "model.add(Dense(units = 64,\n",
    "                kernel_initializer='normal',\n",
    "                activation='sigmoid',\n",
    "                input_dim=X_train.shape[1]))\n",
    "model.add(Dropout(0.2))\n",
    "model.add(Dense(units=32,\n",
    "                kernel_initializer='normal',\n",
    "                activation='relu'))\n",
    "model.add(Dense(units=2,\n",
    "                kernel_initializer='normal',\n",
    "                activation='softmax'))\n",
    "model.compile(optimizer='adam',\n",
    "              loss = 'sparse_categorical_crossentropy',\n",
    "              metrics = ['accuracy'])\n",
    "\n",
    "\n",
    "history = model.fit(X_train,\n",
    "                    y_train, \n",
    "                    batch_size=64, \n",
    "                    epochs=20, \n",
    "                    validation_data = (X_test,y_test))\n",
    "\n",
    "\n",
    "\n",
    "model.summary()"
   ]
  },
  {
   "cell_type": "code",
   "execution_count": 280,
   "id": "09e89133-9626-4cbc-8bfd-a5f9183454cd",
   "metadata": {},
   "outputs": [
    {
     "name": "stdout",
     "output_type": "stream",
     "text": [
      "              precision    recall  f1-score   support\n",
      "\n",
      "           0       0.88      0.98      0.92      2055\n",
      "           1       0.73      0.32      0.45       411\n",
      "\n",
      "    accuracy                           0.87      2466\n",
      "   macro avg       0.80      0.65      0.69      2466\n",
      "weighted avg       0.85      0.87      0.85      2466\n",
      "\n"
     ]
    }
   ],
   "source": [
    "y_result = pd.DataFrame(model.predict(X_test))\n",
    "y_pred = y_result[0].apply(lambda x: 1 if x < 0.5 else 0)\n",
    "print(classification_report(y_test, y_pred))"
   ]
  },
  {
   "cell_type": "markdown",
   "id": "9aec2739-2981-4db8-8eb6-da0114fc7ec8",
   "metadata": {},
   "source": [
    "#### Model tuning"
   ]
  },
  {
   "cell_type": "code",
   "execution_count": 281,
   "id": "23624bbe-dd53-48fe-bfad-fb656c6cf236",
   "metadata": {},
   "outputs": [],
   "source": [
    "def build_model(hp): # hyperparameter\n",
    "  print('build_model function called')\n",
    "  model = keras.Sequential()\n",
    "  for i in range(hp.Int('num_layers', 2, 25)): # number of hidden layers \n",
    "      # number of nodes in every hidden nodes\n",
    "      model.add(layers.Dense(units = hp.Int('units' + str(i), min_value=32, max_value=512, step=32),\n",
    "                              kernel_initializer= hp.Choice('initializer', ['uniform', 'normal']),\n",
    "                              activation= hp.Choice('activation', ['relu', 'sigmoid', 'tanh'])))\n",
    "  model.add(layers.Dropout(0.2))\n",
    "  model.add(layers.Dense(2, kernel_initializer= hp.Choice('initializer', ['uniform', 'normal']), activation='softmax'))\n",
    "\n",
    "  model.compile(\n",
    "      optimizer = 'adam',\n",
    "      loss='sparse_categorical_crossentropy',\n",
    "      metrics=['accuracy'])\n",
    "  return model"
   ]
  },
  {
   "cell_type": "code",
   "execution_count": 298,
   "id": "60b3ef33-0895-46af-88c8-3b2fece7516e",
   "metadata": {},
   "outputs": [
    {
     "name": "stdout",
     "output_type": "stream",
     "text": [
      "build_model function called\n"
     ]
    }
   ],
   "source": [
    "hyperband_tuner = Hyperband(\n",
    "    build_model,\n",
    "    objective='val_accuracy',\n",
    "    max_epochs=10,\n",
    "    factor=3,\n",
    "    directory='project_tuner',\n",
    "    project_name='shopping_intention_hyperband',\n",
    "    overwrite = False\n",
    ")"
   ]
  },
  {
   "cell_type": "code",
   "execution_count": 299,
   "id": "754fa486-c9fc-46af-b23c-c5df4b53ac43",
   "metadata": {},
   "outputs": [],
   "source": [
    "stop_early = tf.keras.callbacks.EarlyStopping(monitor='val_lose',patience=5)"
   ]
  },
  {
   "cell_type": "code",
   "execution_count": 301,
   "id": "06c3e811-b3cc-4b31-aba2-9636ce227e6d",
   "metadata": {},
   "outputs": [
    {
     "name": "stdout",
     "output_type": "stream",
     "text": [
      "Trial 30 Complete [00h 01m 09s]\n",
      "val_accuracy: 0.886455774307251\n",
      "\n",
      "Best val_accuracy So Far: 0.8884833455085754\n",
      "Total elapsed time: 00h 31m 13s\n",
      "INFO:tensorflow:Oracle triggered exit\n"
     ]
    }
   ],
   "source": [
    "hyperband_tuner.search(\n",
    "    X_train,\n",
    "    y_train,\n",
    "    epochs = 10,\n",
    "    validation_data = (X_test, y_test),\n",
    "    callbacks = [stop_early]\n",
    ")\n",
    "\n",
    "best_hps = hyperband_tuner.get_best_hyperparameters(num_trials=1)[0]"
   ]
  },
  {
   "cell_type": "code",
   "execution_count": 305,
   "id": "d1b59310-c025-45e7-943f-95da0ba323a4",
   "metadata": {},
   "outputs": [
    {
     "name": "stdout",
     "output_type": "stream",
     "text": [
      "build_model function called\n",
      "Train on 9864 samples, validate on 2466 samples\n",
      "Epoch 1/30\n",
      "9864/9864 [==============================] - 6s 565us/sample - loss: 0.3884 - accuracy: 0.8468 - val_loss: 0.3426 - val_accuracy: 0.8333\n",
      "Epoch 2/30\n",
      "9864/9864 [==============================] - 6s 599us/sample - loss: 0.3143 - accuracy: 0.8730 - val_loss: 0.3120 - val_accuracy: 0.8719\n",
      "Epoch 3/30\n",
      "9864/9864 [==============================] - 5s 534us/sample - loss: 0.2849 - accuracy: 0.8902 - val_loss: 0.3040 - val_accuracy: 0.8816\n",
      "Epoch 4/30\n",
      "9864/9864 [==============================] - 6s 612us/sample - loss: 0.2649 - accuracy: 0.8958 - val_loss: 0.2736 - val_accuracy: 0.8873\n",
      "Epoch 5/30\n",
      "9864/9864 [==============================] - 5s 465us/sample - loss: 0.2563 - accuracy: 0.8978 - val_loss: 0.2787 - val_accuracy: 0.8796\n",
      "Epoch 6/30\n",
      "9864/9864 [==============================] - 4s 452us/sample - loss: 0.2461 - accuracy: 0.9008 - val_loss: 0.2754 - val_accuracy: 0.8856\n",
      "Epoch 7/30\n",
      "9864/9864 [==============================] - 4s 427us/sample - loss: 0.2388 - accuracy: 0.9005 - val_loss: 0.2640 - val_accuracy: 0.8893\n",
      "Epoch 8/30\n",
      "9864/9864 [==============================] - 5s 507us/sample - loss: 0.2336 - accuracy: 0.9011 - val_loss: 0.2700 - val_accuracy: 0.8865\n",
      "Epoch 9/30\n",
      "9864/9864 [==============================] - 5s 545us/sample - loss: 0.2243 - accuracy: 0.9050 - val_loss: 0.2740 - val_accuracy: 0.8869\n",
      "Epoch 10/30\n",
      "9864/9864 [==============================] - 4s 455us/sample - loss: 0.2207 - accuracy: 0.9047 - val_loss: 0.2736 - val_accuracy: 0.8877\n",
      "Epoch 11/30\n",
      "9864/9864 [==============================] - 5s 459us/sample - loss: 0.2157 - accuracy: 0.9048 - val_loss: 0.2685 - val_accuracy: 0.8836\n",
      "Epoch 12/30\n",
      "9864/9864 [==============================] - 4s 435us/sample - loss: 0.2081 - accuracy: 0.9100 - val_loss: 0.2982 - val_accuracy: 0.8816\n",
      "Epoch 13/30\n",
      "9864/9864 [==============================] - 5s 464us/sample - loss: 0.2038 - accuracy: 0.9115 - val_loss: 0.2943 - val_accuracy: 0.8869\n",
      "Epoch 14/30\n",
      "9864/9864 [==============================] - 4s 454us/sample - loss: 0.1957 - accuracy: 0.9123 - val_loss: 0.2804 - val_accuracy: 0.8828\n",
      "Epoch 15/30\n",
      "9864/9864 [==============================] - 4s 450us/sample - loss: 0.1926 - accuracy: 0.9137 - val_loss: 0.2998 - val_accuracy: 0.8788\n",
      "Epoch 16/30\n",
      "9864/9864 [==============================] - 4s 456us/sample - loss: 0.1881 - accuracy: 0.9157 - val_loss: 0.3196 - val_accuracy: 0.8698\n",
      "Epoch 17/30\n",
      "9864/9864 [==============================] - 5s 511us/sample - loss: 0.1834 - accuracy: 0.9168 - val_loss: 0.3172 - val_accuracy: 0.8792\n",
      "Epoch 18/30\n",
      "9864/9864 [==============================] - 5s 503us/sample - loss: 0.1781 - accuracy: 0.9208 - val_loss: 0.3225 - val_accuracy: 0.8788\n",
      "Epoch 19/30\n",
      "9864/9864 [==============================] - 5s 483us/sample - loss: 0.1783 - accuracy: 0.9225 - val_loss: 0.3343 - val_accuracy: 0.8759\n",
      "Epoch 20/30\n",
      "9864/9864 [==============================] - 5s 475us/sample - loss: 0.1717 - accuracy: 0.9240 - val_loss: 0.3352 - val_accuracy: 0.8767\n",
      "Epoch 21/30\n",
      "9864/9864 [==============================] - 5s 460us/sample - loss: 0.1638 - accuracy: 0.9278 - val_loss: 0.3468 - val_accuracy: 0.8751\n",
      "Epoch 22/30\n",
      "9864/9864 [==============================] - 4s 451us/sample - loss: 0.1635 - accuracy: 0.9264 - val_loss: 0.3930 - val_accuracy: 0.8735\n",
      "Epoch 23/30\n",
      "9864/9864 [==============================] - 4s 441us/sample - loss: 0.1584 - accuracy: 0.9305 - val_loss: 0.3895 - val_accuracy: 0.8759\n",
      "Epoch 24/30\n",
      "9864/9864 [==============================] - 4s 454us/sample - loss: 0.1552 - accuracy: 0.9315 - val_loss: 0.5048 - val_accuracy: 0.8779\n",
      "Epoch 25/30\n",
      "9864/9864 [==============================] - 4s 446us/sample - loss: 0.1556 - accuracy: 0.9339 - val_loss: 0.4332 - val_accuracy: 0.8828\n",
      "Epoch 26/30\n",
      "9864/9864 [==============================] - 5s 462us/sample - loss: 0.1471 - accuracy: 0.9362 - val_loss: 0.4319 - val_accuracy: 0.8706\n",
      "Epoch 27/30\n",
      "9864/9864 [==============================] - 5s 460us/sample - loss: 0.1461 - accuracy: 0.9363 - val_loss: 0.4933 - val_accuracy: 0.8767\n",
      "Epoch 28/30\n",
      "9864/9864 [==============================] - 6s 580us/sample - loss: 0.1408 - accuracy: 0.9384 - val_loss: 0.4449 - val_accuracy: 0.8710\n",
      "Epoch 29/30\n",
      "9864/9864 [==============================] - 4s 446us/sample - loss: 0.1398 - accuracy: 0.9389 - val_loss: 0.5579 - val_accuracy: 0.8715\n",
      "Epoch 30/30\n",
      "9864/9864 [==============================] - 5s 463us/sample - loss: 0.1320 - accuracy: 0.9426 - val_loss: 0.5456 - val_accuracy: 0.8751\n",
      "Model: \"sequential_1\"\n",
      "_________________________________________________________________\n",
      "Layer (type)                 Output Shape              Param #   \n",
      "=================================================================\n",
      "dense_6 (Dense)              multiple                  4800      \n",
      "_________________________________________________________________\n",
      "dense_7 (Dense)              multiple                  37248     \n",
      "_________________________________________________________________\n",
      "dense_8 (Dense)              multiple                  12320     \n",
      "_________________________________________________________________\n",
      "dense_9 (Dense)              multiple                  6336      \n",
      "_________________________________________________________________\n",
      "dense_10 (Dense)             multiple                  18528     \n",
      "_________________________________________________________________\n",
      "dropout_1 (Dropout)          multiple                  0         \n",
      "_________________________________________________________________\n",
      "dense_11 (Dense)             multiple                  194       \n",
      "=================================================================\n",
      "Total params: 79,426\n",
      "Trainable params: 79,426\n",
      "Non-trainable params: 0\n",
      "_________________________________________________________________\n"
     ]
    }
   ],
   "source": [
    "model = hyperband_tuner.hypermodel.build(best_hps)\n",
    "history = model.fit(\n",
    "    X_train, \n",
    "    y_train, \n",
    "    epochs=30, \n",
    "    validation_data=(X_test,y_test))\n",
    "model.summary()"
   ]
  },
  {
   "cell_type": "code",
   "execution_count": 311,
   "id": "f70a71be-fa4d-4efb-ac8d-01c192a37a25",
   "metadata": {},
   "outputs": [],
   "source": [
    "%%capture\n",
    "eval_result = model.evaluate(X_test, y_test)"
   ]
  },
  {
   "cell_type": "code",
   "execution_count": 312,
   "id": "49c15f1a-68c0-4711-bf39-c1db061ce010",
   "metadata": {},
   "outputs": [
    {
     "name": "stdout",
     "output_type": "stream",
     "text": [
      "[test loss, test acc]:  [0.5456015513567836, 0.8751014]\n"
     ]
    }
   ],
   "source": [
    "print('[test loss, test acc]: ',eval_result)"
   ]
  },
  {
   "cell_type": "code",
   "execution_count": 313,
   "id": "8e988e66-7a02-4c72-911f-37fa74139a5a",
   "metadata": {},
   "outputs": [
    {
     "name": "stdout",
     "output_type": "stream",
     "text": [
      "              precision    recall  f1-score   support\n",
      "\n",
      "           0       0.90      0.95      0.93      2055\n",
      "           1       0.67      0.49      0.57       411\n",
      "\n",
      "    accuracy                           0.88      2466\n",
      "   macro avg       0.79      0.72      0.75      2466\n",
      "weighted avg       0.86      0.88      0.87      2466\n",
      "\n"
     ]
    }
   ],
   "source": [
    "y_result = model.predict(X_test)\n",
    "y_result = pd.DataFrame(y_result)\n",
    "y_pred = y_result[0].apply(lambda x: 1 if x < 0.5 else 0)\n",
    "print(classification_report(y_test, y_pred))"
   ]
  },
  {
   "cell_type": "code",
   "execution_count": 314,
   "id": "cd7c592d-92eb-4f75-9f6c-02e049557e2d",
   "metadata": {},
   "outputs": [
    {
     "data": {
      "image/png": "[encoded data removed]",
      "text/plain": [
       "<Figure size 504x360 with 1 Axes>"
      ]
     },
     "metadata": {
      "needs_background": "light"
     },
     "output_type": "display_data"
    },
    {
     "name": "stdout",
     "output_type": "stream",
     "text": [
      "maximum f1 score  0.6366427840327533 reached at cutoff of  0.8\n"
     ]
    }
   ],
   "source": [
    "from IPython.core.pylabtools import figsize\n",
    "from sklearn.metrics import f1_score\n",
    "from sklearn.metrics import recall_score\n",
    "from sklearn.metrics import precision_score\n",
    "from sklearn.metrics import fbeta_score\n",
    "import matplotlib.pyplot as plt\n",
    "plt.rcParams[\"figure.figsize\"] = (7,5)\n",
    "cutoffs = []\n",
    "f1_scores = []\n",
    "recalls = []\n",
    "precisions = []\n",
    "f2_scores = []\n",
    "for i in range(20):\n",
    "  cutoffs.append(i/20)\n",
    "  y_pred = y_result[0].apply(lambda x: 1 if x < i/20 else 0)\n",
    "  f1_scores.append(f1_score(y_test,y_pred))\n",
    "  recalls.append(recall_score(y_test,y_pred))\n",
    "  precisions.append(precision_score(y_test,y_pred))\n",
    "  f2_scores.append(fbeta_score(y_test,y_pred,beta=2))\n",
    "plt.plot(cutoffs, f1_scores, label = 'f1 score')\n",
    "plt.plot(cutoffs, recalls, label = 'recall')\n",
    "plt.plot(cutoffs, precisions, label = 'precision')\n",
    "plt.plot(cutoffs, f2_scores, label = 'f2 score')\n",
    "plt.xlabel('cutoff')\n",
    "plt.title(\"F1 Score and recall vs. Cutoff\")\n",
    "plt.legend()\n",
    "plt.show()\n",
    "maxf1 = max(f1_scores)\n",
    "maxf2 = max(f2_scores)\n",
    "print('maximum f1 score ', maxf1, 'reached at cutoff of ', cutoffs[f1_scores.index(maxf1)])"
   ]
  },
  {
   "cell_type": "code",
   "execution_count": null,
   "id": "202e479b-88fb-441b-8455-b09b57fe6a7f",
   "metadata": {},
   "outputs": [],
   "source": []
  },
  {
   "cell_type": "code",
   "execution_count": null,
   "id": "35a20959-f2f0-4698-a77c-c227e4703a15",
   "metadata": {},
   "outputs": [],
   "source": []
  }
 ],
 "metadata": {
  "colab": {
   "collapsed_sections": [
    "l8xsLFVZWVu1",
    "xfB4g2Thn5gE"
   ],
   "name": "7374-project-pre.ipynb",
   "provenance": []
  },
  "kernelspec": {
   "display_name": "Python 3 (ipykernel)",
   "language": "python",
   "name": "python3"
  },
  "language_info": {
   "codemirror_mode": {
    "name": "ipython",
    "version": 3
   },
   "file_extension": ".py",
   "mimetype": "text/x-python",
   "name": "python",
   "nbconvert_exporter": "python",
   "pygments_lexer": "ipython3",
   "version": "3.8.3"
  }
 },
 "nbformat": 4,
 "nbformat_minor": 5
}
